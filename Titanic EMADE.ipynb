{
 "cells": [
  {
   "cell_type": "code",
   "execution_count": 17,
   "metadata": {},
   "outputs": [],
   "source": [
    "import pymysql\n",
    "import pandas as pd\n",
    "import matplotlib.pyplot as plt"
   ]
  },
  {
   "cell_type": "code",
   "execution_count": 2,
   "metadata": {},
   "outputs": [],
   "source": [
    "connection = pymysql.connect(host = '35.192.176.126', user = 'root', password = 'pass123', \n",
    "      db = 'titanic', charset = 'utf8mb4', cursorclass = pymysql.cursors.DictCursor)"
   ]
  },
  {
   "cell_type": "code",
   "execution_count": 3,
   "metadata": {},
   "outputs": [],
   "source": [
    "cursor = connection.cursor()"
   ]
  },
  {
   "cell_type": "code",
   "execution_count": 4,
   "metadata": {},
   "outputs": [
    {
     "data": {
      "text/plain": [
       "526"
      ]
     },
     "execution_count": 4,
     "metadata": {},
     "output_type": "execute_result"
    }
   ],
   "source": [
    "statement = \"Select elapsed_time, age, evaluation_year, tree, `FullDataSet False Positives`, `FullDataSet False Negatives`, `FullDataSet Num Elements`, id, optimization, generation from individuals join paretofront on individuals.hash=paretofront.hash where paretofront.generation=(select max(paretofront.generation));\"\n",
    "cursor.execute(statement)"
   ]
  },
  {
   "cell_type": "code",
   "execution_count": 5,
   "metadata": {},
   "outputs": [],
   "source": [
    "df = pd.read_sql(statement, connection)"
   ]
  },
  {
   "cell_type": "code",
   "execution_count": 6,
   "metadata": {},
   "outputs": [
    {
     "data": {
      "text/html": [
       "<div>\n",
       "<style scoped>\n",
       "    .dataframe tbody tr th:only-of-type {\n",
       "        vertical-align: middle;\n",
       "    }\n",
       "\n",
       "    .dataframe tbody tr th {\n",
       "        vertical-align: top;\n",
       "    }\n",
       "\n",
       "    .dataframe thead th {\n",
       "        text-align: right;\n",
       "    }\n",
       "</style>\n",
       "<table border=\"1\" class=\"dataframe\">\n",
       "  <thead>\n",
       "    <tr style=\"text-align: right;\">\n",
       "      <th></th>\n",
       "      <th>elapsed_time</th>\n",
       "      <th>age</th>\n",
       "      <th>evaluation_year</th>\n",
       "      <th>tree</th>\n",
       "      <th>FullDataSet False Positives</th>\n",
       "      <th>FullDataSet False Negatives</th>\n",
       "      <th>FullDataSet Num Elements</th>\n",
       "      <th>id</th>\n",
       "      <th>optimization</th>\n",
       "      <th>generation</th>\n",
       "    </tr>\n",
       "  </thead>\n",
       "  <tbody>\n",
       "    <tr>\n",
       "      <td>0</td>\n",
       "      <td>5.60359</td>\n",
       "      <td>1.0</td>\n",
       "      <td>0</td>\n",
       "      <td>myPlanckTaper(AdaBoostLearner(myGaussian(ARG0,...</td>\n",
       "      <td>18.8</td>\n",
       "      <td>19.0</td>\n",
       "      <td>35.0</td>\n",
       "      <td>1</td>\n",
       "      <td>0</td>\n",
       "      <td>0</td>\n",
       "    </tr>\n",
       "    <tr>\n",
       "      <td>1</td>\n",
       "      <td>115.82500</td>\n",
       "      <td>1.0</td>\n",
       "      <td>0</td>\n",
       "      <td>BaggedLearner(ARG0, learnerType('Blup', None))</td>\n",
       "      <td>16.0</td>\n",
       "      <td>36.4</td>\n",
       "      <td>27.0</td>\n",
       "      <td>2</td>\n",
       "      <td>0</td>\n",
       "      <td>0</td>\n",
       "    </tr>\n",
       "    <tr>\n",
       "      <td>2</td>\n",
       "      <td>5.53096</td>\n",
       "      <td>1.0</td>\n",
       "      <td>0</td>\n",
       "      <td>AdaBoostLearner(ARG0, learnerType('ExtraTrees'...</td>\n",
       "      <td>16.2</td>\n",
       "      <td>21.8</td>\n",
       "      <td>44.0</td>\n",
       "      <td>3</td>\n",
       "      <td>0</td>\n",
       "      <td>0</td>\n",
       "    </tr>\n",
       "    <tr>\n",
       "      <td>3</td>\n",
       "      <td>5.60359</td>\n",
       "      <td>1.0</td>\n",
       "      <td>0</td>\n",
       "      <td>myPlanckTaper(AdaBoostLearner(myGaussian(ARG0,...</td>\n",
       "      <td>18.8</td>\n",
       "      <td>19.0</td>\n",
       "      <td>35.0</td>\n",
       "      <td>4</td>\n",
       "      <td>0</td>\n",
       "      <td>1</td>\n",
       "    </tr>\n",
       "    <tr>\n",
       "      <td>4</td>\n",
       "      <td>5.48483</td>\n",
       "      <td>1.0</td>\n",
       "      <td>0</td>\n",
       "      <td>AdaBoostLearner(myProd(ARG0, 0), ModifyLearner...</td>\n",
       "      <td>0.0</td>\n",
       "      <td>68.4</td>\n",
       "      <td>29.0</td>\n",
       "      <td>5</td>\n",
       "      <td>0</td>\n",
       "      <td>1</td>\n",
       "    </tr>\n",
       "  </tbody>\n",
       "</table>\n",
       "</div>"
      ],
      "text/plain": [
       "   elapsed_time  age  evaluation_year  \\\n",
       "0       5.60359  1.0                0   \n",
       "1     115.82500  1.0                0   \n",
       "2       5.53096  1.0                0   \n",
       "3       5.60359  1.0                0   \n",
       "4       5.48483  1.0                0   \n",
       "\n",
       "                                                tree  \\\n",
       "0  myPlanckTaper(AdaBoostLearner(myGaussian(ARG0,...   \n",
       "1     BaggedLearner(ARG0, learnerType('Blup', None))   \n",
       "2  AdaBoostLearner(ARG0, learnerType('ExtraTrees'...   \n",
       "3  myPlanckTaper(AdaBoostLearner(myGaussian(ARG0,...   \n",
       "4  AdaBoostLearner(myProd(ARG0, 0), ModifyLearner...   \n",
       "\n",
       "   FullDataSet False Positives  FullDataSet False Negatives  \\\n",
       "0                         18.8                         19.0   \n",
       "1                         16.0                         36.4   \n",
       "2                         16.2                         21.8   \n",
       "3                         18.8                         19.0   \n",
       "4                          0.0                         68.4   \n",
       "\n",
       "   FullDataSet Num Elements  id  optimization  generation  \n",
       "0                      35.0   1             0           0  \n",
       "1                      27.0   2             0           0  \n",
       "2                      44.0   3             0           0  \n",
       "3                      35.0   4             0           1  \n",
       "4                      29.0   5             0           1  "
      ]
     },
     "execution_count": 6,
     "metadata": {},
     "output_type": "execute_result"
    }
   ],
   "source": [
    "df.head()"
   ]
  },
  {
   "cell_type": "code",
   "execution_count": 7,
   "metadata": {},
   "outputs": [
    {
     "data": {
      "text/plain": [
       "elapsed_time                                                             211.687\n",
       "age                                                                            1\n",
       "evaluation_year                                                               17\n",
       "tree                           myPlanckTaper(AdaBoostLearner(myGaussian(myBar...\n",
       "FullDataSet False Positives                                                109.8\n",
       "FullDataSet False Negatives                                                 68.4\n",
       "FullDataSet Num Elements                                                      82\n",
       "id                                                                           526\n",
       "optimization                                                                   2\n",
       "generation                                                                    16\n",
       "dtype: object"
      ]
     },
     "execution_count": 7,
     "metadata": {},
     "output_type": "execute_result"
    }
   ],
   "source": [
    "df.max()"
   ]
  },
  {
   "cell_type": "code",
   "execution_count": 8,
   "metadata": {},
   "outputs": [],
   "source": [
    "mogp_df = df[[\"FullDataSet False Positives\", \"FullDataSet False Negatives\"]]\n",
    "mogp_df = mogp_df.apply(pd.to_numeric)"
   ]
  },
  {
   "cell_type": "code",
   "execution_count": 9,
   "metadata": {},
   "outputs": [],
   "source": [
    "mogp_df[\"FullDataSet False Positives\"] = (mogp_df[\"FullDataSet False Positives\"]/109.8)\n",
    "mogp_df[\"FullDataSet False Negatives\"] = (mogp_df[\"FullDataSet False Negatives\"]/68.4)"
   ]
  },
  {
   "cell_type": "code",
   "execution_count": 10,
   "metadata": {},
   "outputs": [],
   "source": [
    "input_data = mogp_df.to_numpy()"
   ]
  },
  {
   "cell_type": "code",
   "execution_count": 11,
   "metadata": {},
   "outputs": [
    {
     "data": {
      "text/plain": [
       "array([[0.1712204 , 0.27777778],\n",
       "       [0.14571949, 0.53216374],\n",
       "       [0.14754098, 0.31871345],\n",
       "       ...,\n",
       "       [0.10200364, 0.69590643],\n",
       "       [0.07468124, 0.43859649],\n",
       "       [0.10564663, 0.29824561]])"
      ]
     },
     "execution_count": 11,
     "metadata": {},
     "output_type": "execute_result"
    }
   ],
   "source": [
    "input_data"
   ]
  },
  {
   "cell_type": "code",
   "execution_count": 12,
   "metadata": {},
   "outputs": [
    {
     "name": "stderr",
     "output_type": "stream",
     "text": [
      "/Users/krithikacharya/opt/anaconda3/lib/python3.7/site-packages/ipykernel_launcher.py:13: RuntimeWarning: invalid value encountered in less\n",
      "  del sys.path[0]\n"
     ]
    },
    {
     "data": {
      "text/plain": [
       "<Figure size 640x480 with 1 Axes>"
      ]
     },
     "metadata": {},
     "output_type": "display_data"
    }
   ],
   "source": [
    "import numpy as np\n",
    "import matplotlib.pyplot as plt\n",
    "\n",
    "#  Fairly fast for many datapoints, less fast for many dimensions\n",
    "def find_pareto(data):\n",
    "    is_Pareto = np.ones(data.shape[0], dtype = bool)\n",
    "    for i, c in enumerate(data):\n",
    "        # Keep any point with a lower cost\n",
    "        if is_Pareto[i]:\n",
    "            # This is where you would change for miniminzation versus maximization \n",
    "\n",
    "            # Minimization\n",
    "            is_Pareto[is_Pareto] = np.any(data[is_Pareto]<c, axis=1)   \n",
    "\n",
    "            # And keep self\n",
    "            is_Pareto[i] = True  \n",
    "\n",
    "    # Downsample from boolean array\n",
    "    Pareto_data = data[is_Pareto, :]\n",
    "\n",
    "    # Sort data\n",
    "    Pareto_out =  Pareto_data[np.argsort(Pareto_data[:,0])]\n",
    "\n",
    "    #return is_Pareto\n",
    "    return Pareto_out\n",
    "\n",
    "\n",
    "myData = mogp_df\n",
    "\n",
    "# Include the trival Pareto points, i.e. always on or off\n",
    "myData = np.vstack(([[0,1],[1,0]], myData))\n",
    "\n",
    "# Use above routine to find pareto points\n",
    "myPareto=find_pareto(myData)\n",
    "\n",
    "# Calculate the Area under the Curve as a Riemann sum\n",
    "auc = np.sum(np.diff(myPareto[:,0])*myPareto[0:-1,1])\n",
    "\n",
    "# Create figure\n",
    "plt.figure()\n",
    "\n",
    "# Make sure font sizes are large enough to read in the presentation\n",
    "plt.rcParams.update({'font.size': 14})\n",
    "\n",
    "# Plot all points\n",
    "plt.scatter(myData[:,0],myData[:,1],)\n",
    "\n",
    "# Plot Pareto steps. note 'post' for minimization 'pre' for maximization\n",
    "plt.step(myPareto[:,0], myPareto[:,1], where='post')\n",
    "#plt.step(myPareto[:,0], myPareto[:,1], where='pre')\n",
    "\n",
    "# Make sure you include labels\n",
    "# Minimization\n",
    "plt.title('Minimization Result\\n with AUC = ' + str(auc))\n",
    "plt.xlabel('False Negative')\n",
    "plt.ylabel('False Positive')\n",
    "\n",
    "plt.show()\n",
    "plt.savefig(\"emade-pareto.png\")"
   ]
  },
  {
   "cell_type": "code",
   "execution_count": 13,
   "metadata": {},
   "outputs": [
    {
     "data": {
      "text/plain": [
       "1"
      ]
     },
     "execution_count": 13,
     "metadata": {},
     "output_type": "execute_result"
    }
   ],
   "source": [
    "statement = \"select sum(elapsed_time)/1048 from individuals where `FullDataSet False Negatives` is not null;\"\n",
    "cursor.execute(statement)"
   ]
  },
  {
   "cell_type": "code",
   "execution_count": 14,
   "metadata": {},
   "outputs": [
    {
     "data": {
      "text/plain": [
       "[{'sum(elapsed_time)/1048': 64.33731482001662}]"
      ]
     },
     "execution_count": 14,
     "metadata": {},
     "output_type": "execute_result"
    }
   ],
   "source": [
    "cursor.fetchall()"
   ]
  },
  {
   "cell_type": "code",
   "execution_count": null,
   "metadata": {},
   "outputs": [],
   "source": [
    "###TODO: compare elapsed time beween notnull vs null, make pretty charts!"
   ]
  },
  {
   "cell_type": "code",
   "execution_count": 22,
   "metadata": {},
   "outputs": [
    {
     "data": {
      "text/plain": [
       "1"
      ]
     },
     "execution_count": 22,
     "metadata": {},
     "output_type": "execute_result"
    }
   ],
   "source": [
    "statement = \"select sum(elapsed_time)/4773 from individuals where `FullDataSet False Negatives` is null;\"\n",
    "cursor.execute(statement)"
   ]
  },
  {
   "cell_type": "code",
   "execution_count": 23,
   "metadata": {},
   "outputs": [
    {
     "data": {
      "text/plain": [
       "[{'sum(elapsed_time)/4773': 12.072379009942951}]"
      ]
     },
     "execution_count": 23,
     "metadata": {},
     "output_type": "execute_result"
    }
   ],
   "source": [
    "cursor.fetchall()"
   ]
  },
  {
   "cell_type": "code",
   "execution_count": 29,
   "metadata": {},
   "outputs": [
    {
     "data": {
      "image/png": "[encoded data removed]",
      "text/plain": [
       "<Figure size 432x288 with 1 Axes>"
      ]
     },
     "metadata": {
      "needs_background": "light"
     },
     "output_type": "display_data"
    }
   ],
   "source": [
    "false_negatives = ['Null', 'Not Null']\n",
    "elapsed_time = [64.33731482001662, 12.072379009942951]\n",
    "plt.bar(false_negatives, elapsed_time)\n",
    "plt.title('Average Elapsed Time against Individual False Negatives Result')\n",
    "plt.ylabel('Average Elapsed Time per Individual/s')\n",
    "plt.xlabel('Individual False Negatives Result')\n",
    "plt.show()"
   ]
  },
  {
   "cell_type": "code",
   "execution_count": 26,
   "metadata": {},
   "outputs": [
    {
     "data": {
      "text/plain": [
       "1"
      ]
     },
     "execution_count": 26,
     "metadata": {},
     "output_type": "execute_result"
    }
   ],
   "source": [
    "# statement = \"select sum(elapsed_time)/1048 from individuals where `FullDataSet False Positives` is not null;\"\n",
    "# cursor.execute(statement)"
   ]
  },
  {
   "cell_type": "code",
   "execution_count": 27,
   "metadata": {},
   "outputs": [
    {
     "data": {
      "text/plain": [
       "[{'sum(elapsed_time)/1048': 64.33731482001662}]"
      ]
     },
     "execution_count": 27,
     "metadata": {},
     "output_type": "execute_result"
    }
   ],
   "source": [
    "# cursor.fetchall()"
   ]
  },
  {
   "cell_type": "code",
   "execution_count": null,
   "metadata": {},
   "outputs": [],
   "source": [
    "# statement = \"select sum(elapsed_time)/1048 from individuals where `FullDataSet False Positives` is not null;\"\n",
    "# cursor.execute(statement)"
   ]
  }
 ],
 "metadata": {
  "kernelspec": {
   "display_name": "Python 3",
   "language": "python",
   "name": "python3"
  },
  "language_info": {
   "codemirror_mode": {
    "name": "ipython",
    "version": 3
   },
   "file_extension": ".py",
   "mimetype": "text/x-python",
   "name": "python",
   "nbconvert_exporter": "python",
   "pygments_lexer": "ipython3",
   "version": "3.7.4"
  }
 },
 "nbformat": 4,
 "nbformat_minor": 2
}
