{
 "cells": [
  {
   "cell_type": "code",
   "execution_count": 9,
   "metadata": {},
   "outputs": [],
   "source": [
    "import pandas as pd"
   ]
  },
  {
   "cell_type": "code",
   "execution_count": 10,
   "metadata": {},
   "outputs": [],
   "source": [
    "train_data = pd.read_csv(\"titanic_train.csv\")\n",
    "test_data = pd.read_csv(\"titanic_test.csv\")"
   ]
  },
  {
   "cell_type": "code",
   "execution_count": 11,
   "metadata": {},
   "outputs": [],
   "source": [
    "# TODO Create new Deck column for data\n",
    "train_data['Deck'] = train_data['Cabin'].apply(lambda s: s[0] if pd.notnull(s) else 'M')\n",
    "test_data['Deck'] = test_data['Cabin'].apply(lambda s: s[0] if pd.notnull(s) else 'M')\n",
    "\n",
    "train_idx = train_data[train_data['Deck'] == 'T'].index\n",
    "test_idx = test_data[test_data['Deck'] == 'T'].index\n",
    "\n",
    "train_data.loc[train_idx, 'Deck'] = 'A'\n",
    "test_data.loc[test_idx, 'Deck'] = 'A'\n",
    "\n",
    "train_data['Deck'] = train_data['Deck'].replace(['A', 'B', 'C'], 'ABC')\n",
    "train_data['Deck'] = train_data['Deck'].replace(['D', 'E'], 'DE')\n",
    "train_data['Deck'] = train_data['Deck'].replace(['F', 'G'], 'FG')\n",
    "\n",
    "test_data['Deck'] = test_data['Deck'].replace(['A', 'B', 'C'], 'ABC')\n",
    "test_data['Deck'] = test_data['Deck'].replace(['D', 'E'], 'DE')\n",
    "test_data['Deck'] = test_data['Deck'].replace(['F', 'G'], 'FG')"
   ]
  },
  {
   "cell_type": "code",
   "execution_count": 12,
   "metadata": {},
   "outputs": [],
   "source": [
    "# drop unused columns\n",
    "train_data.drop(columns=['Name', 'Ticket', 'Cabin'], inplace=True)\n",
    "train_data.set_index(keys=['PassengerId'], drop=True, inplace=True)\n",
    "\n",
    "test_data.drop(columns=['Name', 'Ticket', 'Cabin'], inplace=True)\n",
    "test_data.set_index(keys=['PassengerId'], drop=True, inplace=True)\n",
    "\n",
    "# fill missing values\n",
    "train_nan_map = {'Age': train_data['Age'].median(), 'Fare': train_data['Fare'].mean(), 'Embarked': train_data['Embarked'].mode()[0]}\n",
    "test_nan_map = {'Age': test_data['Age'].median(), 'Fare': test_data['Fare'].mean(), 'Embarked': test_data['Embarked'].mode()[0]}\n",
    "\n",
    "train_data.fillna(value=train_nan_map, inplace=True)\n",
    "test_data.fillna(value=test_nan_map, inplace=True)\n",
    "\n",
    "# encode features\n",
    "columns_map = {'Embarked': {'C': 0, 'Q': 1, 'S': 2}, 'Sex': {'male': 0, 'female': 1}, 'Deck': {'ABC': 0, 'DE': 1, 'FG': 2, 'M': 3}}\n",
    "train_data.replace(columns_map, inplace=True)\n",
    "test_data.replace(columns_map, inplace=True)"
   ]
  },
  {
   "cell_type": "code",
   "execution_count": 13,
   "metadata": {},
   "outputs": [],
   "source": [
    "# save new csv\n",
    "cleaned_train_data = train_data.to_csv(\"clean_train_data.csv\", index = False)\n",
    "cleaned_test_data = test_data.to_csv(\"clean_test_data.csv\", index = False)"
   ]
  }
 ],
 "metadata": {
  "kernelspec": {
   "display_name": "Python 3",
   "language": "python",
   "name": "python3"
  },
  "language_info": {
   "codemirror_mode": {
    "name": "ipython",
    "version": 3
   },
   "file_extension": ".py",
   "mimetype": "text/x-python",
   "name": "python",
   "nbconvert_exporter": "python",
   "pygments_lexer": "ipython3",
   "version": "3.7.3"
  }
 },
 "nbformat": 4,
 "nbformat_minor": 2
}
