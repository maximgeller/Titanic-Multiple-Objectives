{
 "cells": [
  {
   "cell_type": "code",
   "execution_count": 2,
   "metadata": {},
   "outputs": [],
   "source": [
    "import random\n",
    "import operator\n",
    "import itertools\n",
    "\n",
    "import numpy as np\n",
    "import pandas as pd\n",
    "import matplotlib.pyplot as plt\n",
    "from sklearn.metrics import confusion_matrix\n",
    "\n",
    "from deap import algorithms\n",
    "from deap import base\n",
    "from deap import creator\n",
    "from deap import tools\n",
    "from deap import gp"
   ]
  },
  {
   "cell_type": "code",
   "execution_count": 3,
   "metadata": {},
   "outputs": [
    {
     "data": {
      "text/html": [
       "<div>\n",
       "<style scoped>\n",
       "    .dataframe tbody tr th:only-of-type {\n",
       "        vertical-align: middle;\n",
       "    }\n",
       "\n",
       "    .dataframe tbody tr th {\n",
       "        vertical-align: top;\n",
       "    }\n",
       "\n",
       "    .dataframe thead th {\n",
       "        text-align: right;\n",
       "    }\n",
       "</style>\n",
       "<table border=\"1\" class=\"dataframe\">\n",
       "  <thead>\n",
       "    <tr style=\"text-align: right;\">\n",
       "      <th></th>\n",
       "      <th>Pclass</th>\n",
       "      <th>Sex</th>\n",
       "      <th>Age</th>\n",
       "      <th>SibSp</th>\n",
       "      <th>Parch</th>\n",
       "      <th>Fare</th>\n",
       "      <th>Embarked</th>\n",
       "      <th>Deck</th>\n",
       "    </tr>\n",
       "    <tr>\n",
       "      <th>PassengerId</th>\n",
       "      <th></th>\n",
       "      <th></th>\n",
       "      <th></th>\n",
       "      <th></th>\n",
       "      <th></th>\n",
       "      <th></th>\n",
       "      <th></th>\n",
       "      <th></th>\n",
       "    </tr>\n",
       "  </thead>\n",
       "  <tbody>\n",
       "    <tr>\n",
       "      <th>1</th>\n",
       "      <td>3.0</td>\n",
       "      <td>0.0</td>\n",
       "      <td>22.0</td>\n",
       "      <td>1.0</td>\n",
       "      <td>0.0</td>\n",
       "      <td>7.2500</td>\n",
       "      <td>2.0</td>\n",
       "      <td>3.0</td>\n",
       "    </tr>\n",
       "    <tr>\n",
       "      <th>2</th>\n",
       "      <td>1.0</td>\n",
       "      <td>1.0</td>\n",
       "      <td>38.0</td>\n",
       "      <td>1.0</td>\n",
       "      <td>0.0</td>\n",
       "      <td>71.2833</td>\n",
       "      <td>0.0</td>\n",
       "      <td>0.0</td>\n",
       "    </tr>\n",
       "    <tr>\n",
       "      <th>3</th>\n",
       "      <td>3.0</td>\n",
       "      <td>1.0</td>\n",
       "      <td>26.0</td>\n",
       "      <td>0.0</td>\n",
       "      <td>0.0</td>\n",
       "      <td>7.9250</td>\n",
       "      <td>2.0</td>\n",
       "      <td>3.0</td>\n",
       "    </tr>\n",
       "    <tr>\n",
       "      <th>4</th>\n",
       "      <td>1.0</td>\n",
       "      <td>1.0</td>\n",
       "      <td>35.0</td>\n",
       "      <td>1.0</td>\n",
       "      <td>0.0</td>\n",
       "      <td>53.1000</td>\n",
       "      <td>2.0</td>\n",
       "      <td>0.0</td>\n",
       "    </tr>\n",
       "    <tr>\n",
       "      <th>5</th>\n",
       "      <td>3.0</td>\n",
       "      <td>0.0</td>\n",
       "      <td>35.0</td>\n",
       "      <td>0.0</td>\n",
       "      <td>0.0</td>\n",
       "      <td>8.0500</td>\n",
       "      <td>2.0</td>\n",
       "      <td>3.0</td>\n",
       "    </tr>\n",
       "  </tbody>\n",
       "</table>\n",
       "</div>"
      ],
      "text/plain": [
       "             Pclass  Sex   Age  SibSp  Parch     Fare  Embarked  Deck\n",
       "PassengerId                                                          \n",
       "1               3.0  0.0  22.0    1.0    0.0   7.2500       2.0   3.0\n",
       "2               1.0  1.0  38.0    1.0    0.0  71.2833       0.0   0.0\n",
       "3               3.0  1.0  26.0    0.0    0.0   7.9250       2.0   3.0\n",
       "4               1.0  1.0  35.0    1.0    0.0  53.1000       2.0   0.0\n",
       "5               3.0  0.0  35.0    0.0    0.0   8.0500       2.0   3.0"
      ]
     },
     "execution_count": 3,
     "metadata": {},
     "output_type": "execute_result"
    }
   ],
   "source": [
    "# peek at features\n",
    "# TODO: set passenger id as index and filter out the target feature\n",
    "df = pd.read_csv(\"clean_train_data.csv\", index_col = \"PassengerId\")\n",
    "X = df.loc[:, df.columns != \"Survived\"]\n",
    "truth = df[\"Survived\"]\n",
    "X = X.astype(float)\n",
    "X.head()"
   ]
  },
  {
   "cell_type": "code",
   "execution_count": 4,
   "metadata": {},
   "outputs": [],
   "source": [
    "# create fitness for MO: FP and FN\n",
    "creator.create(\"FitnessMin\", base.Fitness, weights=(-1.0,-1.0))\n",
    "creator.create(\"Individual\", gp.PrimitiveTree, fitness=creator.FitnessMin)"
   ]
  },
  {
   "cell_type": "code",
   "execution_count": 5,
   "metadata": {},
   "outputs": [],
   "source": [
    "# TODO: create helper functions for primitives\n",
    "def divide_by_zero(a, b):\n",
    "    if b == 0:\n",
    "        return 0\n",
    "    else:\n",
    "        return a / b"
   ]
  },
  {
   "cell_type": "code",
   "execution_count": 6,
   "metadata": {},
   "outputs": [],
   "source": [
    "def if_then_else(input, output1, output2):\n",
    "    if input: \n",
    "        return output1\n",
    "    else: \n",
    "        return output2"
   ]
  },
  {
   "cell_type": "code",
   "execution_count": 7,
   "metadata": {},
   "outputs": [],
   "source": [
    "# TODO: func for float to bool\n",
    "def float_to_bool(f):\n",
    "    return f > 0"
   ]
  },
  {
   "cell_type": "code",
   "execution_count": 9,
   "metadata": {},
   "outputs": [],
   "source": [
    "random.seed(25)\n",
    "pset = gp.PrimitiveSetTyped(\"main\", itertools.repeat(float, 8), bool) \n",
    "\n",
    "pset.addPrimitive(operator.add, [float, float], float)\n",
    "pset.addPrimitive(operator.sub, [float, float], float)\n",
    "pset.addPrimitive(operator.mul, [float, float], float)\n",
    "pset.addPrimitive(divide_by_zero, [float, float], float)\n",
    "\n",
    "pset.addPrimitive(operator.and_, [bool, bool], bool)\n",
    "pset.addPrimitive(operator.or_, [bool, bool], bool)\n",
    "pset.addPrimitive(operator.not_, [bool], bool)\n",
    "pset.addPrimitive(operator.xor, [bool, bool], bool)\n",
    "pset.addPrimitive(float_to_bool, [float], bool)\n",
    "\n",
    "pset.addPrimitive(operator.lt, [float, float], bool)\n",
    "pset.addPrimitive(operator.eq, [float, float], bool)\n",
    "pset.addPrimitive(if_then_else, [bool, float, float], float)\n",
    "\n",
    "pset.addTerminal(0, bool)\n",
    "pset.addTerminal(1, bool)\n",
    "\n",
    "pset.renameArguments(ARG0='Pclass', ARG1='Sex', ARG2='Age', ARG3='SibSp', ARG4='Parch', ARG5=\"Fare\", ARG6=\"Embarked\", ARG7=\"Deck\")"
   ]
  },
  {
   "cell_type": "code",
   "execution_count": 10,
   "metadata": {},
   "outputs": [],
   "source": [
    "# create toolbox\n",
    "toolbox = base.Toolbox()\n",
    "toolbox.register(\"expr\", gp.genHalfAndHalf, pset=pset, min_=1, max_=10)\n",
    "toolbox.register(\"individual\", tools.initIterate, creator.Individual, toolbox.expr)\n",
    "toolbox.register(\"population\", tools.initRepeat, list, toolbox.individual)\n",
    "toolbox.register(\"compile\", gp.compile, pset=pset)"
   ]
  },
  {
   "cell_type": "code",
   "execution_count": 11,
   "metadata": {},
   "outputs": [],
   "source": [
    "def eval_function(individual, points, pset):\n",
    "    func = gp.compile(expr=individual, pset=pset)\n",
    "    results = [func(*points[x]) for x in range(len(points))]\n",
    "    tn, fp, fn, tp = confusion_matrix(truth, results).ravel()\n",
    "    return fp/(tn + fp), fn/(tp + fn)"
   ]
  },
  {
   "cell_type": "code",
   "execution_count": 12,
   "metadata": {},
   "outputs": [],
   "source": [
    "toolbox.register(\"evaluate\", eval_function, points=X.values, pset=pset)\n",
    "toolbox.register(\"select\", tools.selNSGA2)\n",
    "toolbox.register(\"mate\", gp.cxOnePoint)\n",
    "toolbox.register(\"expr_mut\", gp.genFull, min_=2, max_=5)\n",
    "toolbox.register(\"mutate\", gp.mutUniform, expr=toolbox.expr_mut, pset=pset)\n",
    "\n",
    "toolbox.decorate(\"mate\", gp.staticLimit(key=operator.attrgetter(\"height\"), max_value=17))\n",
    "toolbox.decorate(\"mutate\", gp.staticLimit(key=operator.attrgetter(\"height\"), max_value=17))"
   ]
  },
  {
   "cell_type": "code",
   "execution_count": 13,
   "metadata": {},
   "outputs": [
    {
     "name": "stdout",
     "output_type": "stream",
     "text": [
      "eq(add(sub(mul(Deck, Pclass), mul(Pclass, Parch)), if_then_else(xor(0, 0), if_then_else(0, Fare, Age), if_then_else(1, Deck, Sex))), add(if_then_else(float_to_bool(Fare), divide_by_zero(Fare, SibSp), sub(Deck, Sex)), add(divide_by_zero(Sex, Age), add(Age, Sex))))\n",
      "(0.0, 1.0)\n"
     ]
    }
   ],
   "source": [
    "expr = gp.genFull(pset, min_=1, max_=5)\n",
    "tree = gp.PrimitiveTree(expr)\n",
    "print(str(tree))\n",
    "print(str(eval_function(tree, X.values, pset)))"
   ]
  },
  {
   "cell_type": "code",
   "execution_count": 14,
   "metadata": {},
   "outputs": [],
   "source": [
    "def pareto_dominance(ind1, ind2):\n",
    "    not_equal = False\n",
    "    for value_1, value_2 in zip(ind1.fitness.values, ind2.fitness.values):\n",
    "        if value_1 > value_2:\n",
    "            return False\n",
    "        elif value_1 < value_2:\n",
    "            not_equal = True\n",
    "    return not_equal"
   ]
  },
  {
   "cell_type": "code",
   "execution_count": 15,
   "metadata": {},
   "outputs": [],
   "source": [
    "population = toolbox.population(n=300)"
   ]
  },
  {
   "cell_type": "code",
   "execution_count": 16,
   "metadata": {},
   "outputs": [],
   "source": [
    "fitnesses = list(map(toolbox.evaluate, population))\n",
    "for ind, fit in zip(population, fitnesses):\n",
    "    ind.fitness.values = fit\n",
    "\n",
    "a_given_individual = toolbox.population(n=1)[0]\n",
    "a_given_individual.fitness.values = toolbox.evaluate(a_given_individual)"
   ]
  },
  {
   "cell_type": "code",
   "execution_count": 27,
   "metadata": {},
   "outputs": [],
   "source": [
    "dominated = [ind for ind in population if pareto_dominance(a_given_individual, ind)]\n",
    "dominators = [ind for ind in population if pareto_dominance(ind, a_given_individual)]\n",
    "others = [ind for ind in population if not ind in dominated and not ind in dominators]"
   ]
  },
  {
   "cell_type": "code",
   "execution_count": 28,
   "metadata": {},
   "outputs": [
    {
     "name": "stdout",
     "output_type": "stream",
     "text": [
      "38\n",
      "0.2134502923976608\n",
      "259\n"
     ]
    }
   ],
   "source": [
    "print(len(dominated))\n",
    "print((dominators[1].fitness.values[1]))\n",
    "print(len(others))"
   ]
  },
  {
   "cell_type": "code",
   "execution_count": 29,
   "metadata": {},
   "outputs": [
    {
     "data": {
      "image/png": "[encoded data removed]",
      "text/plain": [
       "<Figure size 432x288 with 1 Axes>"
      ]
     },
     "metadata": {
      "needs_background": "light"
     },
     "output_type": "display_data"
    }
   ],
   "source": [
    "for ind in dominators: plt.plot(ind.fitness.values[0], ind.fitness.values[1], 'r.', alpha=0.7)\n",
    "for ind in dominated: plt.plot(ind.fitness.values[0], ind.fitness.values[1], 'g.', alpha=0.7)\n",
    "for ind in others: plt.plot(ind.fitness.values[0], ind.fitness.values[1], 'k.', alpha=0.7, ms=3)\n",
    "plt.plot(a_given_individual.fitness.values[0], a_given_individual.fitness.values[1], 'bo', ms=6);\n",
    "plt.xlabel('Mean Squared Error');plt.ylabel('Tree Size');\n",
    "plt.title('Objective space');\n",
    "plt.tight_layout()\n",
    "plt.show()"
   ]
  },
  {
   "cell_type": "code",
   "execution_count": 30,
   "metadata": {},
   "outputs": [
    {
     "name": "stdout",
     "output_type": "stream",
     "text": [
      "gen\tnevals\tavg                    \tstd                    \tmin    \tmax    \n",
      "0  \t0     \t[0.43379478 0.55765107]\t[0.42791065 0.40037213]\t[0. 0.]\t[1. 1.]\n",
      "1  \t172   \t[0.40727383 0.57688109]\t[0.41888665 0.3905666 ]\t[0. 0.]\t[1. 1.]\n",
      "2  \t150   \t[0.40336369 0.57888889]\t[0.42180381 0.39803803]\t[0. 0.]\t[1. 1.]\n",
      "3  \t151   \t[0.38021858 0.59921053]\t[0.40684092 0.38323312]\t[0. 0.]\t[1. 1.]\n",
      "4  \t165   \t[0.40357013 0.57094542]\t[0.4136568  0.39227542]\t[0. 0.]\t[1. 1.]\n",
      "5  \t154   \t[0.41395264 0.55738791]\t[0.4165494  0.39532907]\t[0. 0.]\t[1. 1.]\n",
      "6  \t145   \t[0.41643594 0.5574269 ]\t[0.41368854 0.38903503]\t[0. 0.]\t[1. 1.]\n",
      "7  \t142   \t[0.42300546 0.55788499]\t[0.41446978 0.3859543 ]\t[0. 0.]\t[1. 1.]\n",
      "8  \t166   \t[0.4288221  0.55455166]\t[0.41453021 0.38733614]\t[0. 0.]\t[1. 1.]\n",
      "9  \t173   \t[0.43328476 0.55400585]\t[0.41483326 0.38609502]\t[0. 0.]\t[1. 1.]\n",
      "10 \t182   \t[0.46069824 0.53523392]\t[0.4186313  0.39064861]\t[0. 0.]\t[1. 1.]\n",
      "11 \t152   \t[0.46608986 0.53037037]\t[0.41804033 0.38977252]\t[0. 0.]\t[1. 1.]\n",
      "12 \t159   \t[0.44814208 0.54432749]\t[0.41579715 0.38646323]\t[0. 0.]\t[1. 1.]\n",
      "13 \t173   \t[0.44411658 0.54961988]\t[0.41644468 0.3874939 ]\t[0. 0.]\t[1. 1.]\n",
      "14 \t177   \t[0.44981785 0.53982456]\t[0.41808912 0.38931233]\t[0. 0.]\t[1. 1.]\n",
      "15 \t160   \t[0.43889496 0.54479532]\t[0.41619706 0.39007409]\t[0. 0.]\t[1. 1.]\n",
      "16 \t176   \t[0.44239223 0.54376218]\t[0.41598341 0.39071891]\t[0. 0.]\t[1. 1.]\n",
      "17 \t154   \t[0.44192471 0.54666667]\t[0.41490977 0.39064267]\t[0. 0.]\t[1. 1.]\n",
      "18 \t172   \t[0.44738312 0.54321637]\t[0.41447362 0.38818824]\t[0. 0.]\t[1. 1.]\n",
      "19 \t169   \t[0.44049787 0.54499025]\t[0.41390211 0.3886303 ]\t[0. 0.]\t[1. 1.]\n",
      "20 \t168   \t[0.43493018 0.55108187]\t[0.4153006  0.38810407]\t[0. 0.]\t[1. 1.]\n",
      "21 \t175   \t[0.43502732 0.54783626]\t[0.41691893 0.38994665]\t[0. 0.]\t[1. 1.]\n",
      "22 \t177   \t[0.44700668 0.54247563]\t[0.41888424 0.39269912]\t[0. 0.]\t[1. 1.]\n",
      "23 \t178   \t[0.45908318 0.53212476]\t[0.42136373 0.39479618]\t[0. 0.]\t[1. 1.]\n",
      "24 \t175   \t[0.43980571 0.54302144]\t[0.41835975 0.39094079]\t[0. 0.]\t[1. 1.]\n",
      "25 \t166   \t[0.43377656 0.54897661]\t[0.41913323 0.39192778]\t[0. 0.]\t[1. 1.]\n",
      "26 \t168   \t[0.42443837 0.55447368]\t[0.41590513 0.38843331]\t[0. 0.]\t[1. 1.]\n",
      "27 \t173   \t[0.42700668 0.55679337]\t[0.41933114 0.39247381]\t[0. 0.]\t[1. 1.]\n",
      "28 \t165   \t[0.4253309  0.55359649]\t[0.41666301 0.38926429]\t[0. 0.]\t[1. 1.]\n",
      "29 \t153   \t[0.43105039 0.54661793]\t[0.41470449 0.38597865]\t[0. 0.]\t[1. 1.]\n",
      "30 \t185   \t[0.42614451 0.55748538]\t[0.41228028 0.38464966]\t[0. 0.]\t[1. 1.]\n",
      "31 \t158   \t[0.40700668 0.56824561]\t[0.41107061 0.38410983]\t[0. 0.]\t[1. 1.]\n",
      "32 \t148   \t[0.40995143 0.56878168]\t[0.40676545 0.37704769]\t[0. 0.]\t[1. 1.]\n",
      "33 \t141   \t[0.40825744 0.57450292]\t[0.40590005 0.37663622]\t[0. 0.]\t[1. 1.]\n",
      "34 \t160   \t[0.40424408 0.5769883 ]\t[0.41078957 0.38132789]\t[0. 0.]\t[1. 1.]\n",
      "35 \t156   \t[0.40448695 0.57349903]\t[0.41201563 0.38373311]\t[0. 0.]\t[1. 1.]\n",
      "36 \t170   \t[0.41897996 0.56346979]\t[0.41243019 0.38200141]\t[0. 0.]\t[1. 1.]\n",
      "37 \t160   \t[0.40542805 0.57638402]\t[0.41088901 0.38124822]\t[0. 0.]\t[1. 1.]\n",
      "38 \t171   \t[0.41273224 0.57216374]\t[0.41298067 0.38249568]\t[0. 0.]\t[1. 1.]\n",
      "39 \t158   \t[0.40948391 0.57488304]\t[0.41192708 0.38210335]\t[0. 0.]\t[1. 1.]\n",
      "40 \t152   \t[0.41105647 0.57764133]\t[0.40978606 0.37997831]\t[0. 0.]\t[1. 1.]\n",
      "41 \t171   \t[0.41314511 0.57665692]\t[0.41170845 0.38154974]\t[0. 0.]\t[1. 1.]\n",
      "42 \t159   \t[0.39341226 0.59811891]\t[0.40804258 0.3794244 ]\t[0. 0.]\t[1. 1.]\n",
      "43 \t160   \t[0.39704918 0.59459064]\t[0.41011828 0.38141218]\t[0. 0.]\t[1. 1.]\n",
      "44 \t178   \t[0.39637523 0.59436647]\t[0.40762069 0.3777033 ]\t[0. 0.]\t[1. 1.]\n",
      "45 \t161   \t[0.39633273 0.59408382]\t[0.40633203 0.37711091]\t[0. 0.]\t[1. 1.]\n",
      "46 \t159   \t[0.40490589 0.59028265]\t[0.41373337 0.38340081]\t[0. 0.]\t[1. 1.]\n",
      "47 \t149   \t[0.41317547 0.58350877]\t[0.41797078 0.38765424]\t[0. 0.]\t[1. 1.]\n",
      "48 \t170   \t[0.41870067 0.58149123]\t[0.42076627 0.39284261]\t[0. 0.]\t[1. 1.]\n",
      "49 \t162   \t[0.41777778 0.57889864]\t[0.42182262 0.39335158]\t[0. 0.]\t[1. 1.]\n",
      "50 \t165   \t[0.40971463 0.58608187]\t[0.42051679 0.39266135]\t[0. 0.]\t[1. 1.]\n",
      "51 \t160   \t[0.39655131 0.59969786]\t[0.41843199 0.39065138]\t[0. 0.]\t[1. 1.]\n",
      "52 \t172   \t[0.39084396 0.60248538]\t[0.4175276  0.38785093]\t[0. 0.]\t[1. 1.]\n",
      "53 \t161   \t[0.39038251 0.60174464]\t[0.41811808 0.38691303]\t[0. 0.]\t[1. 1.]\n",
      "54 \t153   \t[0.38585307 0.6102729 ]\t[0.41521939 0.38405233]\t[0. 0.]\t[1. 1.]\n",
      "55 \t154   \t[0.37636916 0.61117934]\t[0.4187403  0.39150088]\t[0. 0.]\t[1. 1.]\n",
      "56 \t164   \t[0.37508197 0.61665692]\t[0.41734335 0.38773965]\t[0. 0.]\t[1. 1.]\n",
      "57 \t164   \t[0.3876867 0.605    ]  \t[0.41748359 0.38804987]\t[0. 0.]\t[1. 1.]\n",
      "58 \t170   \t[0.38826958 0.60662768]\t[0.41872112 0.38727959]\t[0. 0.]\t[1. 1.]\n",
      "59 \t148   \t[0.38266545 0.61274854]\t[0.41718388 0.38623108]\t[0. 0.]\t[1. 1.]\n",
      "60 \t176   \t[0.39006072 0.60210526]\t[0.41878903 0.39032471]\t[0. 0.]\t[1. 1.]\n",
      "61 \t180   \t[0.39310868 0.59937622]\t[0.42004689 0.39226487]\t[0. 0.]\t[1. 1.]\n",
      "62 \t184   \t[0.39044323 0.60117934]\t[0.41786229 0.38994199]\t[0. 0.]\t[1. 1.]\n",
      "63 \t163   \t[0.39897996 0.59311891]\t[0.4194878  0.39080808]\t[0. 0.]\t[1. 1.]\n",
      "64 \t169   \t[0.3927201  0.59622807]\t[0.41820629 0.39137062]\t[0. 0.]\t[1. 1.]\n",
      "65 \t162   \t[0.40191864 0.58338207]\t[0.42069171 0.39545278]\t[0. 0.]\t[1. 1.]\n",
      "66 \t173   \t[0.38188828 0.60435673]\t[0.41262171 0.38765447]\t[0. 0.]\t[1. 1.]\n",
      "67 \t159   \t[0.38964784 0.59449318]\t[0.4133243 0.3879364]  \t[0. 0.]\t[1. 1.]\n",
      "68 \t166   \t[0.40856709 0.57913255]\t[0.41886604 0.39102179]\t[0. 0.]\t[1. 1.]\n",
      "69 \t182   \t[0.38876138 0.59725146]\t[0.4137317  0.38607025]\t[0. 0.]\t[1. 1.]\n",
      "70 \t170   \t[0.39139041 0.59717349]\t[0.41429176 0.38658545]\t[0. 0.]\t[1. 1.]\n",
      "71 \t161   \t[0.39119004 0.59791423]\t[0.41368314 0.38389526]\t[0. 0.]\t[1. 1.]\n",
      "72 \t170   \t[0.38672131 0.60227096]\t[0.40970493 0.3794746 ]\t[0. 0.]\t[1. 1.]\n",
      "73 \t167   \t[0.392119   0.59149123]\t[0.41028326 0.38099852]\t[0. 0.]\t[1. 1.]\n",
      "74 \t189   \t[0.39331512 0.59201754]\t[0.40938554 0.37787933]\t[0. 0.]\t[1. 1.]\n",
      "75 \t165   \t[0.3804493  0.60853801]\t[0.4060742 0.3736395]  \t[0. 0.]\t[1. 1.]\n",
      "76 \t187   \t[0.37985428 0.61201754]\t[0.40295927 0.36944905]\t[0. 0.]\t[1. 1.]\n",
      "77 \t182   \t[0.38859745 0.60557505]\t[0.4040468  0.37068461]\t[0. 0.]\t[1. 1.]\n",
      "78 \t161   \t[0.39828172 0.59982456]\t[0.40456019 0.37224271]\t[0. 0.]\t[1. 1.]\n",
      "79 \t173   \t[0.40096539 0.60080897]\t[0.40493047 0.37170367]\t[0. 0.]\t[1. 1.]\n",
      "80 \t184   \t[0.38714633 0.61038986]\t[0.40355224 0.37247383]\t[0. 0.]\t[1. 1.]\n",
      "Best individual is eq(Pclass, if_then_else(xor(or_(lt(Sex, mul(Parch, sub(add(mul(sub(mul(Parch, Pclass), divide_by_zero(Parch, Fare)), mul(if_then_else(1, Sex, Fare), if_then_else(0, Embarked, Fare))), if_then_else(lt(sub(Parch, Sex), mul(SibSp, SibSp)), mul(sub(Pclass, Sex), if_then_else(0, Parch, Sex)), add(divide_by_zero(Parch, Pclass), divide_by_zero(Parch, Fare)))), divide_by_zero(mul(if_then_else(eq(Deck, Pclass), divide_by_zero(Parch, Pclass), mul(Embarked, Parch)), mul(divide_by_zero(Age, Embarked), mul(Fare, Deck))), if_then_else(xor(and_(1, 0), not_(0)), sub(add(Age, Age), if_then_else(1, Sex, Embarked)), sub(add(SibSp, Embarked), add(Sex, Fare))))))), 1), 0), divide_by_zero(Sex, Deck), Sex)), (0.0, 0.9239766081871345), from gen 43\n"
     ]
    }
   ],
   "source": [
    "ngen = 80\n",
    "cxpb = 0.5\n",
    "mutpb = 0.1\n",
    "hof = tools.ParetoFront()\n",
    "\n",
    "avg_list = []\n",
    "max_list = []\n",
    "min_list = []\n",
    "\n",
    "best_ind = tools.selBest(population, 1)[0]\n",
    "gen_best = 0\n",
    "\n",
    "stats = tools.Statistics(lambda ind: ind.fitness.values)\n",
    "stats.register(\"avg\", np.mean, axis=0)\n",
    "stats.register(\"std\", np.std, axis=0)\n",
    "stats.register(\"min\", np.min, axis=0)\n",
    "stats.register(\"max\", np.max, axis=0)\n",
    "\n",
    "logbook = tools.Logbook()\n",
    "logbook.header = ['gen', 'nevals'] + stats.fields\n",
    "\n",
    "\n",
    "# Evaluate the individuals with an invalid fitness\n",
    "invalid_ind = [ind for ind in population if not ind.fitness.valid]\n",
    "fitnesses = toolbox.map(toolbox.evaluate, invalid_ind)\n",
    "for ind, fit in zip(invalid_ind, fitnesses):\n",
    "    ind.fitness.values = fit\n",
    "    \n",
    "record = stats.compile(population)\n",
    "logbook.record(gen=0, nevals=len(invalid_ind), **record)\n",
    "\n",
    "print(logbook.stream)\n",
    "\n",
    "for gen in range(1, ngen + 1):\n",
    "    # Select the next generation individuals\n",
    "    offspring = toolbox.select(population, len(population))\n",
    "\n",
    "    # Vary the pool of individuals\n",
    "    offspring = [toolbox.clone(ind) for ind in population]\n",
    "\n",
    "    # Apply crossover and mutation on the offspring\n",
    "    for i in range(1, len(offspring), 2):\n",
    "        if random.random() < cxpb:\n",
    "            offspring[i - 1], offspring[i] = toolbox.mate(offspring[i - 1],\n",
    "                                                          offspring[i])\n",
    "            del offspring[i - 1].fitness.values, offspring[i].fitness.values\n",
    "\n",
    "    for i in range(len(offspring)):\n",
    "        if random.random() < mutpb:\n",
    "            offspring[i], = toolbox.mutate(offspring[i])\n",
    "            del offspring[i].fitness.values\n",
    "\n",
    "        # Evaluate the individuals with an invalid fitness\n",
    "    invalid_ind = [ind for ind in offspring if not ind.fitness.valid]\n",
    "    fitnesses = toolbox.map(toolbox.evaluate, invalid_ind)\n",
    "    for ind, fit in zip(invalid_ind, fitnesses):\n",
    "        ind.fitness.values = fit\n",
    "\n",
    "        # Update the hall of fame with the generated individuals\n",
    "    hof.update(offspring)\n",
    "    \n",
    "    if sum(tools.selBest(population, 1)[0].fitness.values) < sum(best_ind.fitness.values):\n",
    "        best_ind = tools.selBest(population, 1)[0]\n",
    "        gen_best = gen\n",
    "\n",
    "        # Replace the current population by the offspring\n",
    "    population[:] = offspring\n",
    "    \n",
    "    record = stats.compile(population) if stats else {}\n",
    "    logbook.record(gen=gen, nevals=len(invalid_ind), **record)\n",
    "    \n",
    "    print(logbook.stream)\n",
    "\n",
    "print(\"Best individual is %s, %s, from gen %s\" % (best_ind, best_ind.fitness.values, gen_best))"
   ]
  },
  {
   "cell_type": "code",
   "execution_count": 31,
   "metadata": {},
   "outputs": [
    {
     "name": "stdout",
     "output_type": "stream",
     "text": [
      "Best individual is: eq(Pclass, if_then_else(xor(or_(lt(Sex, mul(Parch, sub(add(mul(sub(mul(Parch, Pclass), divide_by_zero(Parch, Fare)), mul(if_then_else(or_(0, float_to_bool(if_then_else(and_(float_to_bool(add(Age, Deck)), eq(if_then_else(0, Deck, SibSp), mul(Age, Sex))), sub(add(divide_by_zero(SibSp, Pclass), if_then_else(0, Pclass, Sex)), divide_by_zero(add(SibSp, Sex), sub(Sex, Parch))), divide_by_zero(if_then_else(not_(1), add(SibSp, Pclass), if_then_else(1, Deck, Parch)), add(sub(Deck, Sex), divide_by_zero(Parch, SibSp)))))), Sex, Fare), if_then_else(0, Embarked, Fare))), if_then_else(1, mul(sub(Pclass, Sex), if_then_else(0, Parch, Sex)), add(if_then_else(eq(sub(divide_by_zero(if_then_else(1, Parch, Deck), divide_by_zero(SibSp, Embarked)), if_then_else(and_(1, 0), sub(Age, Fare), sub(SibSp, Embarked))), mul(if_then_else(xor(1, 0), divide_by_zero(Age, Fare), sub(Fare, SibSp)), divide_by_zero(if_then_else(0, Pclass, Embarked), divide_by_zero(Parch, SibSp)))), divide_by_zero(if_then_else(eq(mul(Age, Age), if_then_else(0, Deck, Deck)), mul(add(Parch, Age), if_then_else(0, Sex, Parch)), divide_by_zero(divide_by_zero(Parch, Age), mul(Pclass, SibSp))), if_then_else(xor(or_(1, 0), float_to_bool(Fare)), if_then_else(and_(1, 0), mul(Parch, SibSp), sub(Fare, Embarked)), mul(sub(Embarked, Sex), if_then_else(1, Age, Embarked)))), Sex), divide_by_zero(Parch, Fare)))), divide_by_zero(Sex, if_then_else(xor(and_(0, 0), 1), Parch, sub(add(SibSp, SibSp), add(Sex, Fare))))))), not_(xor(and_(1, 1), not_(0)))), 0), divide_by_zero(Sex, Deck), Sex))\n",
      "with fitness: (0.0, 0.9239766081871345)\n"
     ]
    },
    {
     "data": {
      "image/png": "[encoded data removed]",
      "text/plain": [
       "<Figure size 432x288 with 1 Axes>"
      ]
     },
     "metadata": {
      "needs_background": "light"
     },
     "output_type": "display_data"
    }
   ],
   "source": [
    "print(\"Best individual is: %s\\nwith fitness: %s\" % (hof[0], hof[0].fitness))\n",
    "gen, avg, min_, max_ = logbook.select(\"gen\", \"avg\", \"min\", \"max\")\n",
    "plt.plot(gen, avg, label=\"average\")\n",
    "plt.plot(gen, min_, label=\"minimum\")\n",
    "plt.xlabel(\"Generation\")\n",
    "plt.ylabel(\"Fitness\")\n",
    "plt.legend(loc=\"upper left\")\n",
    "plt.show()"
   ]
  },
  {
   "cell_type": "code",
   "execution_count": 32,
   "metadata": {},
   "outputs": [
    {
     "data": {
      "image/png": "[encoded data removed]",
      "text/plain": [
       "<Figure size 432x288 with 1 Axes>"
      ]
     },
     "metadata": {
      "needs_background": "light"
     },
     "output_type": "display_data"
    },
    {
     "name": "stdout",
     "output_type": "stream",
     "text": [
      "Area Under Curve: 0.20649453019312092\n"
     ]
    }
   ],
   "source": [
    "\"\"\"Split fitness values into separate lists\"\"\"\n",
    "fitness_1 = [ind.fitness.values[0] for ind in hof]\n",
    "fitness_2 = [ind.fitness.values[1] for ind in hof]\n",
    "pop_1 = [ind.fitness.values[0] for ind in population]\n",
    "pop_2 = [ind.fitness.values[1] for ind in population]\n",
    "\n",
    "'''Print dominated population for debugging'''\n",
    "# for ind in pop:\n",
    "#     print(ind.fitness)\n",
    "\n",
    "plt.scatter(pop_1, pop_2, color='b')\n",
    "plt.scatter(fitness_1, fitness_2, color='r')\n",
    "plt.plot(fitness_1, fitness_2, color='r', drawstyle='steps-post')\n",
    "plt.xlabel(\"False Positive\")\n",
    "plt.ylabel(\"False Negative\")\n",
    "plt.title(\"Pareto Front\")\n",
    "plt.ylim(bottom=0.0)\n",
    "plt.xlim(left=0.0)\n",
    "plt.show()\n",
    "\n",
    "f1 = np.array(fitness_1)\n",
    "f2 = np.array(fitness_2)\n",
    "\n",
    "\"\"\"Calculate area under curve with least squares method\"\"\"\n",
    "print(\"Area Under Curve: %s\" % (np.sum(np.abs(np.diff(f1))*f2[:-1])))"
   ]
  },
  {
   "cell_type": "code",
   "execution_count": 34,
   "metadata": {},
   "outputs": [],
   "source": [
    "predictions = [ind for ind in hof]    "
   ]
  },
  {
   "cell_type": "code",
   "execution_count": 35,
   "metadata": {},
   "outputs": [
    {
     "data": {
      "text/html": [
       "<div>\n",
       "<style scoped>\n",
       "    .dataframe tbody tr th:only-of-type {\n",
       "        vertical-align: middle;\n",
       "    }\n",
       "\n",
       "    .dataframe tbody tr th {\n",
       "        vertical-align: top;\n",
       "    }\n",
       "\n",
       "    .dataframe thead th {\n",
       "        text-align: right;\n",
       "    }\n",
       "</style>\n",
       "<table border=\"1\" class=\"dataframe\">\n",
       "  <thead>\n",
       "    <tr style=\"text-align: right;\">\n",
       "      <th></th>\n",
       "      <th>Pclass</th>\n",
       "      <th>Sex</th>\n",
       "      <th>Age</th>\n",
       "      <th>SibSp</th>\n",
       "      <th>Parch</th>\n",
       "      <th>Fare</th>\n",
       "      <th>Embarked</th>\n",
       "      <th>Deck</th>\n",
       "    </tr>\n",
       "    <tr>\n",
       "      <th>PassengerId</th>\n",
       "      <th></th>\n",
       "      <th></th>\n",
       "      <th></th>\n",
       "      <th></th>\n",
       "      <th></th>\n",
       "      <th></th>\n",
       "      <th></th>\n",
       "      <th></th>\n",
       "    </tr>\n",
       "  </thead>\n",
       "  <tbody>\n",
       "    <tr>\n",
       "      <th>892</th>\n",
       "      <td>3</td>\n",
       "      <td>0</td>\n",
       "      <td>34.5</td>\n",
       "      <td>0</td>\n",
       "      <td>0</td>\n",
       "      <td>7.8292</td>\n",
       "      <td>1</td>\n",
       "      <td>3</td>\n",
       "    </tr>\n",
       "    <tr>\n",
       "      <th>893</th>\n",
       "      <td>3</td>\n",
       "      <td>1</td>\n",
       "      <td>47.0</td>\n",
       "      <td>1</td>\n",
       "      <td>0</td>\n",
       "      <td>7.0000</td>\n",
       "      <td>2</td>\n",
       "      <td>3</td>\n",
       "    </tr>\n",
       "    <tr>\n",
       "      <th>894</th>\n",
       "      <td>2</td>\n",
       "      <td>0</td>\n",
       "      <td>62.0</td>\n",
       "      <td>0</td>\n",
       "      <td>0</td>\n",
       "      <td>9.6875</td>\n",
       "      <td>1</td>\n",
       "      <td>3</td>\n",
       "    </tr>\n",
       "    <tr>\n",
       "      <th>895</th>\n",
       "      <td>3</td>\n",
       "      <td>0</td>\n",
       "      <td>27.0</td>\n",
       "      <td>0</td>\n",
       "      <td>0</td>\n",
       "      <td>8.6625</td>\n",
       "      <td>2</td>\n",
       "      <td>3</td>\n",
       "    </tr>\n",
       "    <tr>\n",
       "      <th>896</th>\n",
       "      <td>3</td>\n",
       "      <td>1</td>\n",
       "      <td>22.0</td>\n",
       "      <td>1</td>\n",
       "      <td>1</td>\n",
       "      <td>12.2875</td>\n",
       "      <td>2</td>\n",
       "      <td>3</td>\n",
       "    </tr>\n",
       "  </tbody>\n",
       "</table>\n",
       "</div>"
      ],
      "text/plain": [
       "             Pclass  Sex   Age  SibSp  Parch     Fare  Embarked  Deck\n",
       "PassengerId                                                          \n",
       "892               3    0  34.5      0      0   7.8292         1     3\n",
       "893               3    1  47.0      1      0   7.0000         2     3\n",
       "894               2    0  62.0      0      0   9.6875         1     3\n",
       "895               3    0  27.0      0      0   8.6625         2     3\n",
       "896               3    1  22.0      1      1  12.2875         2     3"
      ]
     },
     "execution_count": 35,
     "metadata": {},
     "output_type": "execute_result"
    }
   ],
   "source": [
    "test_df = pd.read_csv(\"clean_test_data.csv\", index_col = \"PassengerId\")\n",
    "test_df.head()"
   ]
  },
  {
   "cell_type": "code",
   "execution_count": 43,
   "metadata": {},
   "outputs": [],
   "source": [
    "def eval_test(points, pset):\n",
    "    out = pd.DataFrame(index=test_df.index)\n",
    "    index = 0\n",
    "    for ind in predictions:\n",
    "        func = gp.compile(expr=ind, pset=pset)\n",
    "        results = [func(*points[x]) for x in range(len(points))]\n",
    "        out[index] = results\n",
    "        index += 1\n",
    "    return out"
   ]
  },
  {
   "cell_type": "code",
   "execution_count": 40,
   "metadata": {},
   "outputs": [
    {
     "data": {
      "text/plain": [
       "pandas.core.frame.DataFrame"
      ]
     },
     "execution_count": 40,
     "metadata": {},
     "output_type": "execute_result"
    }
   ],
   "source": [
    "out = eval_test(test_df.values, pset)\n",
    "type(out)"
   ]
  },
  {
   "cell_type": "code",
   "execution_count": 41,
   "metadata": {},
   "outputs": [
    {
     "data": {
      "text/plain": [
       "(418, 189)"
      ]
     },
     "execution_count": 41,
     "metadata": {},
     "output_type": "execute_result"
    }
   ],
   "source": [
    "out.shape"
   ]
  },
  {
   "cell_type": "code",
   "execution_count": 42,
   "metadata": {},
   "outputs": [],
   "source": [
    "out.to_csv(\"titanic_deap.csv\")"
   ]
  }
 ],
 "metadata": {
  "@webio": {
   "lastCommId": null,
   "lastKernelId": null
  },
  "kernelspec": {
   "display_name": "Python 3",
   "language": "python",
   "name": "python3"
  },
  "language_info": {
   "codemirror_mode": {
    "name": "ipython",
    "version": 3
   },
   "file_extension": ".py",
   "mimetype": "text/x-python",
   "name": "python",
   "nbconvert_exporter": "python",
   "pygments_lexer": "ipython3",
   "version": "3.7.3"
  }
 },
 "nbformat": 4,
 "nbformat_minor": 2
}
