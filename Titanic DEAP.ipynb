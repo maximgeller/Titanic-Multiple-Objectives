{
 "cells": [
  {
   "cell_type": "code",
   "execution_count": 40,
   "metadata": {},
   "outputs": [],
   "source": [
    "import random\n",
    "import operator\n",
    "import itertools\n",
    "import math\n",
    "\n",
    "import numpy as np\n",
    "import pandas as pd\n",
    "import matplotlib.pyplot as plt\n",
    "from sklearn.metrics import confusion_matrix\n",
    "\n",
    "from deap import algorithms\n",
    "from deap import base\n",
    "from deap import creator\n",
    "from deap import tools\n",
    "from deap import gp"
   ]
  },
  {
   "cell_type": "code",
   "execution_count": 41,
   "metadata": {},
   "outputs": [
    {
     "data": {
      "text/html": [
       "<div>\n",
       "<style scoped>\n",
       "    .dataframe tbody tr th:only-of-type {\n",
       "        vertical-align: middle;\n",
       "    }\n",
       "\n",
       "    .dataframe tbody tr th {\n",
       "        vertical-align: top;\n",
       "    }\n",
       "\n",
       "    .dataframe thead th {\n",
       "        text-align: right;\n",
       "    }\n",
       "</style>\n",
       "<table border=\"1\" class=\"dataframe\">\n",
       "  <thead>\n",
       "    <tr style=\"text-align: right;\">\n",
       "      <th></th>\n",
       "      <th>Pclass</th>\n",
       "      <th>Sex</th>\n",
       "      <th>Age</th>\n",
       "      <th>SibSp</th>\n",
       "      <th>Parch</th>\n",
       "      <th>Fare</th>\n",
       "      <th>Embarked</th>\n",
       "      <th>Deck</th>\n",
       "    </tr>\n",
       "    <tr>\n",
       "      <th>PassengerId</th>\n",
       "      <th></th>\n",
       "      <th></th>\n",
       "      <th></th>\n",
       "      <th></th>\n",
       "      <th></th>\n",
       "      <th></th>\n",
       "      <th></th>\n",
       "      <th></th>\n",
       "    </tr>\n",
       "  </thead>\n",
       "  <tbody>\n",
       "    <tr>\n",
       "      <td>1</td>\n",
       "      <td>3.0</td>\n",
       "      <td>0.0</td>\n",
       "      <td>22.0</td>\n",
       "      <td>1.0</td>\n",
       "      <td>0.0</td>\n",
       "      <td>7.2500</td>\n",
       "      <td>2.0</td>\n",
       "      <td>3.0</td>\n",
       "    </tr>\n",
       "    <tr>\n",
       "      <td>2</td>\n",
       "      <td>1.0</td>\n",
       "      <td>1.0</td>\n",
       "      <td>38.0</td>\n",
       "      <td>1.0</td>\n",
       "      <td>0.0</td>\n",
       "      <td>71.2833</td>\n",
       "      <td>0.0</td>\n",
       "      <td>0.0</td>\n",
       "    </tr>\n",
       "    <tr>\n",
       "      <td>3</td>\n",
       "      <td>3.0</td>\n",
       "      <td>1.0</td>\n",
       "      <td>26.0</td>\n",
       "      <td>0.0</td>\n",
       "      <td>0.0</td>\n",
       "      <td>7.9250</td>\n",
       "      <td>2.0</td>\n",
       "      <td>3.0</td>\n",
       "    </tr>\n",
       "    <tr>\n",
       "      <td>4</td>\n",
       "      <td>1.0</td>\n",
       "      <td>1.0</td>\n",
       "      <td>35.0</td>\n",
       "      <td>1.0</td>\n",
       "      <td>0.0</td>\n",
       "      <td>53.1000</td>\n",
       "      <td>2.0</td>\n",
       "      <td>0.0</td>\n",
       "    </tr>\n",
       "    <tr>\n",
       "      <td>5</td>\n",
       "      <td>3.0</td>\n",
       "      <td>0.0</td>\n",
       "      <td>35.0</td>\n",
       "      <td>0.0</td>\n",
       "      <td>0.0</td>\n",
       "      <td>8.0500</td>\n",
       "      <td>2.0</td>\n",
       "      <td>3.0</td>\n",
       "    </tr>\n",
       "  </tbody>\n",
       "</table>\n",
       "</div>"
      ],
      "text/plain": [
       "             Pclass  Sex   Age  SibSp  Parch     Fare  Embarked  Deck\n",
       "PassengerId                                                          \n",
       "1               3.0  0.0  22.0    1.0    0.0   7.2500       2.0   3.0\n",
       "2               1.0  1.0  38.0    1.0    0.0  71.2833       0.0   0.0\n",
       "3               3.0  1.0  26.0    0.0    0.0   7.9250       2.0   3.0\n",
       "4               1.0  1.0  35.0    1.0    0.0  53.1000       2.0   0.0\n",
       "5               3.0  0.0  35.0    0.0    0.0   8.0500       2.0   3.0"
      ]
     },
     "execution_count": 41,
     "metadata": {},
     "output_type": "execute_result"
    }
   ],
   "source": [
    "# peek at features\n",
    "# TODO: set passenger id as index and filter out the target feature\n",
    "df = pd.read_csv(\"clean_train_data.csv\", index_col = \"PassengerId\")\n",
    "X = df.loc[:, df.columns != \"Survived\"]\n",
    "truth = df[\"Survived\"]\n",
    "X = X.astype(float)\n",
    "X.head()"
   ]
  },
  {
   "cell_type": "code",
   "execution_count": 42,
   "metadata": {},
   "outputs": [
    {
     "name": "stderr",
     "output_type": "stream",
     "text": [
      "/Users/krithikacharya/opt/anaconda3/lib/python3.7/site-packages/deap/creator.py:141: RuntimeWarning: A class named 'FitnessMin' has already been created and it will be overwritten. Consider deleting previous creation of that class or rename it.\n",
      "  RuntimeWarning)\n",
      "/Users/krithikacharya/opt/anaconda3/lib/python3.7/site-packages/deap/creator.py:141: RuntimeWarning: A class named 'Individual' has already been created and it will be overwritten. Consider deleting previous creation of that class or rename it.\n",
      "  RuntimeWarning)\n"
     ]
    }
   ],
   "source": [
    "# create fitness for MO: FP and FN\n",
    "creator.create(\"FitnessMin\", base.Fitness, weights=(-1.0,-1.0))\n",
    "creator.create(\"Individual\", gp.PrimitiveTree, fitness=creator.FitnessMin)"
   ]
  },
  {
   "cell_type": "code",
   "execution_count": 43,
   "metadata": {},
   "outputs": [],
   "source": [
    "# TODO: create helper functions for primitives\n",
    "def divide_by_zero(a, b):\n",
    "    if b == 0:\n",
    "        return 0\n",
    "    else:\n",
    "        return a / b"
   ]
  },
  {
   "cell_type": "code",
   "execution_count": 44,
   "metadata": {},
   "outputs": [],
   "source": [
    "def if_then_else(input, output1, output2):\n",
    "    if input: \n",
    "        return output1\n",
    "    else: \n",
    "        return output2"
   ]
  },
  {
   "cell_type": "code",
   "execution_count": 45,
   "metadata": {},
   "outputs": [],
   "source": [
    "# TODO: func for float to bool\n",
    "def float_to_bool(f):\n",
    "    return f > 0"
   ]
  },
  {
   "cell_type": "code",
   "execution_count": 46,
   "metadata": {},
   "outputs": [],
   "source": [
    "# def sigmoid(inp):\n",
    "#     return 1 / (1 + math.exp(-inp))"
   ]
  },
  {
   "cell_type": "code",
   "execution_count": 75,
   "metadata": {},
   "outputs": [],
   "source": [
    "random.seed(25)\n",
    "pset = gp.PrimitiveSetTyped(\"main\", itertools.repeat(float, 8), bool) \n",
    "\n",
    "pset.addPrimitive(operator.add, [float, float], float)\n",
    "pset.addPrimitive(operator.sub, [float, float], float)\n",
    "pset.addPrimitive(operator.mul, [float, float], float)\n",
    "pset.addPrimitive(divide_by_zero, [float, float], float)\n",
    "# pset.addPrimitive(sigmoid, [float], float)\n",
    "\n",
    "pset.addPrimitive(operator.and_, [bool, bool], bool)\n",
    "pset.addPrimitive(operator.or_, [bool, bool], bool)\n",
    "pset.addPrimitive(operator.not_, [bool], bool)\n",
    "pset.addPrimitive(operator.xor, [bool, bool], bool)\n",
    "pset.addPrimitive(float_to_bool, [float], bool)\n",
    "\n",
    "pset.addPrimitive(operator.lt, [float, float], bool)\n",
    "pset.addPrimitive(operator.eq, [float, float], bool)\n",
    "pset.addPrimitive(if_then_else, [bool, float, float], float)\n",
    "\n",
    "pset.addTerminal(0, bool)\n",
    "pset.addTerminal(1, bool)"
   ]
  },
  {
   "cell_type": "code",
   "execution_count": 76,
   "metadata": {},
   "outputs": [],
   "source": [
    "# create toolbox\n",
    "toolbox = base.Toolbox()\n",
    "toolbox.register(\"expr\", gp.genHalfAndHalf, pset=pset, min_=1, max_=10)\n",
    "toolbox.register(\"individual\", tools.initIterate, creator.Individual, toolbox.expr)\n",
    "toolbox.register(\"population\", tools.initRepeat, list, toolbox.individual)\n",
    "toolbox.register(\"compile\", gp.compile, pset=pset)"
   ]
  },
  {
   "cell_type": "code",
   "execution_count": 83,
   "metadata": {},
   "outputs": [],
   "source": [
    "def eval_function(individual, points, pset):\n",
    "    func = gp.compile(expr=individual, pset=pset)\n",
    "    results = [func(*points[x]) for x in range(len(points))]\n",
    "    tn, fp, fn, tp = confusion_matrix(truth, results).ravel()\n",
    "    return fp/(tn + fp), fn/(tp + fn)"
   ]
  },
  {
   "cell_type": "code",
   "execution_count": 84,
   "metadata": {},
   "outputs": [],
   "source": [
    "toolbox.register(\"evaluate\", eval_function, points=X.values, pset=pset)\n",
    "toolbox.register(\"select\", tools.selNSGA2)\n",
    "toolbox.register(\"mate\", gp.cxOnePoint)\n",
    "toolbox.register(\"expr_mut\", gp.genFull, min_=2, max_=5)\n",
    "toolbox.register(\"mutate\", gp.mutUniform, expr=toolbox.expr_mut, pset=pset)\n",
    "\n",
    "toolbox.decorate(\"mate\", gp.staticLimit(key=operator.attrgetter(\"height\"), max_value=17))\n",
    "toolbox.decorate(\"mutate\", gp.staticLimit(key=operator.attrgetter(\"height\"), max_value=17))"
   ]
  },
  {
   "cell_type": "code",
   "execution_count": 85,
   "metadata": {},
   "outputs": [
    {
     "name": "stdout",
     "output_type": "stream",
     "text": [
      "xor(or_(eq(add(ARG6, ARG0), mul(ARG1, ARG4)), not_(lt(ARG0, ARG4))), and_(or_(xor(0, 0), eq(ARG6, ARG4)), or_(and_(0, 1), xor(1, 0))))\n",
      "(0.8051001821493625, 0.2543859649122807)\n"
     ]
    }
   ],
   "source": [
    "expr = gp.genFull(pset, min_=1, max_=5)\n",
    "tree = gp.PrimitiveTree(expr)\n",
    "print(str(tree))\n",
    "print(str(eval_function(tree, X.values, pset)))"
   ]
  },
  {
   "cell_type": "code",
   "execution_count": 86,
   "metadata": {},
   "outputs": [],
   "source": [
    "def pareto_dominance(ind1, ind2):\n",
    "    not_equal = False\n",
    "    for value_1, value_2 in zip(ind1.fitness.values, ind2.fitness.values):\n",
    "        if value_1 > value_2:\n",
    "            return False\n",
    "        elif value_1 < value_2:\n",
    "            not_equal = True\n",
    "    return not_equal"
   ]
  },
  {
   "cell_type": "code",
   "execution_count": 87,
   "metadata": {},
   "outputs": [],
   "source": [
    "population = toolbox.population(n=300)"
   ]
  },
  {
   "cell_type": "code",
   "execution_count": 88,
   "metadata": {},
   "outputs": [],
   "source": [
    "fitnesses = list(map(toolbox.evaluate, population))\n",
    "for ind, fit in zip(population, fitnesses):\n",
    "    ind.fitness.values = fit\n",
    "\n",
    "a_given_individual = toolbox.population(n=1)[0]\n",
    "a_given_individual.fitness.values = toolbox.evaluate(a_given_individual)"
   ]
  },
  {
   "cell_type": "code",
   "execution_count": 89,
   "metadata": {},
   "outputs": [],
   "source": [
    "dominated = [ind for ind in population if pareto_dominance(a_given_individual, ind)]\n",
    "dominators = [ind for ind in population if pareto_dominance(ind, a_given_individual)]\n",
    "others = [ind for ind in population if not ind in dominated and not ind in dominators]"
   ]
  },
  {
   "cell_type": "code",
   "execution_count": 94,
   "metadata": {},
   "outputs": [
    {
     "name": "stdout",
     "output_type": "stream",
     "text": [
      "0\n",
      "0.9912280701754386\n",
      "276\n"
     ]
    }
   ],
   "source": [
    "print(len(dominated))\n",
    "print((dominators[1].fitness.values[1]))\n",
    "print(len(others))"
   ]
  },
  {
   "cell_type": "code",
   "execution_count": 95,
   "metadata": {},
   "outputs": [
    {
     "data": {
      "image/png": "[encoded data removed]",
      "text/plain": [
       "<Figure size 432x288 with 1 Axes>"
      ]
     },
     "metadata": {
      "needs_background": "light"
     },
     "output_type": "display_data"
    }
   ],
   "source": [
    "for ind in dominators: plt.plot(ind.fitness.values[0], ind.fitness.values[1], 'r.', alpha=0.7)\n",
    "for ind in dominated: plt.plot(ind.fitness.values[0], ind.fitness.values[1], 'g.', alpha=0.7)\n",
    "for ind in others: plt.plot(ind.fitness.values[0], ind.fitness.values[1], 'k.', alpha=0.7, ms=3)\n",
    "plt.plot(a_given_individual.fitness.values[0], a_given_individual.fitness.values[1], 'bo', ms=6);\n",
    "plt.xlabel('Mean Squared Error');plt.ylabel('Tree Size');\n",
    "plt.title('Objective space');\n",
    "plt.tight_layout()\n",
    "plt.show()"
   ]
  },
  {
   "cell_type": "code",
   "execution_count": null,
   "metadata": {},
   "outputs": [
    {
     "name": "stdout",
     "output_type": "stream",
     "text": [
      "gen\tnevals\tavg                    \tstd                    \tmin    \tmax    \n",
      "0  \t0     \t[0.41978142 0.56769981]\t[0.41989468 0.3870847 ]\t[0. 0.]\t[1. 1.]\n",
      "1  \t152   \t[0.43132362 0.56547758]\t[0.41960412 0.38657262]\t[0. 0.]\t[1. 1.]\n",
      "2  \t148   \t[0.42384942 0.56955166]\t[0.41935214 0.38304169]\t[0. 0.]\t[1. 1.]\n",
      "3  \t167   \t[0.44156648 0.55894737]\t[0.41983874 0.38482703]\t[0. 0.]\t[1. 1.]\n",
      "4  \t170   \t[0.42639344 0.57517544]\t[0.4198317  0.38264558]\t[0. 0.]\t[1. 1.]\n",
      "5  \t174   \t[0.43287189 0.56705653]\t[0.41951974 0.3838536 ]\t[0. 0.]\t[1. 1.]\n",
      "6  \t152   \t[0.39806315 0.5965692 ]\t[0.41260092 0.37801352]\t[0. 0.]\t[1. 1.]\n",
      "7  \t170   \t[0.42239223 0.58466862]\t[0.41292363 0.37662046]\t[0. 0.]\t[1. 1.]\n",
      "8  \t170   \t[0.43972678 0.56817739]\t[0.41493276 0.37996672]\t[0. 0.]\t[1. 1.]\n",
      "9  \t164   \t[0.41903461 0.59135478]\t[0.40949303 0.3695307 ]\t[0. 0.]\t[1. 1.]\n",
      "10 \t176   \t[0.42435337 0.58635478]\t[0.41383355 0.37396326]\t[0. 0.]\t[1. 1.]\n",
      "11 \t189   \t[0.42882817 0.59036062]\t[0.41415758 0.37280997]\t[0. 0.]\t[1. 1.]\n",
      "12 \t177   \t[0.42527019 0.58796296]\t[0.41365898 0.37207343]\t[0. 0.]\t[1. 1.]\n",
      "13 \t166   \t[0.42310868 0.57645224]\t[0.41553937 0.37939606]\t[0. 0.]\t[1. 1.]\n",
      "14 \t156   \t[0.42292653 0.57953216]\t[0.41821094 0.3848422 ]\t[0. 0.]\t[1. 1.]\n",
      "15 \t182   \t[0.39996357 0.59758285]\t[0.41111055 0.37616222]\t[0. 0.]\t[1. 1.]\n",
      "16 \t157   \t[0.39289617 0.59882066]\t[0.40858184 0.3721088 ]\t[0. 0.]\t[1. 1.]\n",
      "17 \t169   \t[0.36819672 0.62546784]\t[0.40113533 0.36403163]\t[0. 0.]\t[1. 1.]\n",
      "18 \t152   \t[0.37536126 0.61363548]\t[0.40372625 0.36780981]\t[0. 0.]\t[1. 1.]\n",
      "19 \t160   \t[0.38817851 0.59740741]\t[0.40719874 0.36820156]\t[0. 0.]\t[1. 1.]\n",
      "20 \t158   \t[0.40105647 0.58868421]\t[0.40937231 0.37077746]\t[0. 0.]\t[1. 1.]\n",
      "21 \t173   \t[0.41228294 0.57755361]\t[0.41326707 0.375531  ]\t[0. 0.]\t[1. 1.]\n",
      "22 \t167   \t[0.40720097 0.58193957]\t[0.41300367 0.37703598]\t[0. 0.]\t[1. 1.]\n",
      "23 \t169   \t[0.39440194 0.595     ]\t[0.41445022 0.37987355]\t[0. 0.]\t[1. 1.]\n",
      "24 \t168   \t[0.40400729 0.59087719]\t[0.41842028 0.38275781]\t[0. 0.]\t[1. 1.]\n",
      "25 \t175   \t[0.41151791 0.58340156]\t[0.42080944 0.38476936]\t[0. 0.]\t[1. 1.]\n",
      "26 \t159   \t[0.39689739 0.59821637]\t[0.41434593 0.37961838]\t[0. 0.]\t[1. 1.]\n",
      "27 \t167   \t[0.38731026 0.61450292]\t[0.41324842 0.37847043]\t[0. 0.]\t[1. 1.]\n",
      "28 \t180   \t[0.39728597 0.59695906]\t[0.41620373 0.38307071]\t[0. 0.]\t[1. 1.]\n",
      "29 \t178   \t[0.41115968 0.58723197]\t[0.42120944 0.38801884]\t[0. 0.]\t[1. 1.]\n",
      "30 \t158   \t[0.40532483 0.59207602]\t[0.42362171 0.38808741]\t[0. 0.]\t[1. 1.]\n",
      "31 \t192   \t[0.41388585 0.58736842]\t[0.42745893 0.39132369]\t[0. 0.]\t[1. 1.]\n",
      "32 \t163   \t[0.41676381 0.58138402]\t[0.4261223  0.39024868]\t[0. 0.]\t[1. 1.]\n",
      "33 \t193   \t[0.42148148 0.57548733]\t[0.42637037 0.38901986]\t[0. 0.]\t[1. 1.]\n",
      "34 \t165   \t[0.42349727 0.57865497]\t[0.42549266 0.38622079]\t[0. 0.]\t[1. 1.]\n",
      "35 \t174   \t[0.42641773 0.57697856]\t[0.42954445 0.39011619]\t[0. 0.]\t[1. 1.]\n",
      "36 \t155   \t[0.42125683 0.58267057]\t[0.42981429 0.38954252]\t[0. 0.]\t[1. 1.]\n",
      "37 \t166   \t[0.41343655 0.59230994]\t[0.42425884 0.38176691]\t[0. 0.]\t[1. 1.]\n",
      "38 \t159   \t[0.41560413 0.58747563]\t[0.4226853  0.38198681]\t[0. 0.]\t[1. 1.]\n",
      "39 \t157   \t[0.41525197 0.59010721]\t[0.42432827 0.38632422]\t[0. 0.]\t[1. 1.]\n",
      "40 \t173   \t[0.40652095 0.59516569]\t[0.41971485 0.38038933]\t[0. 0.]\t[1. 1.]\n",
      "41 \t160   \t[0.3943048 0.6010039]  \t[0.41378478 0.37623283]\t[0. 0.]\t[1. 1.]\n",
      "42 \t171   \t[0.39523376 0.60115984]\t[0.41475703 0.37639148]\t[0. 0.]\t[1. 1.]\n",
      "43 \t160   \t[0.39241044 0.60236842]\t[0.4138736  0.37656463]\t[0. 0.]\t[1. 1.]\n",
      "44 \t166   \t[0.38347905 0.60579922]\t[0.40831282 0.37075197]\t[0. 0.]\t[1. 1.]\n",
      "45 \t152   \t[0.38865817 0.59950292]\t[0.41041306 0.37560172]\t[0. 0.]\t[1. 1.]\n",
      "46 \t170   \t[0.37236187 0.61673489]\t[0.40288924 0.36537188]\t[0. 0.]\t[1. 1.]\n",
      "47 \t167   \t[0.3806861  0.60777778]\t[0.40470384 0.36700104]\t[0. 0.]\t[1. 1.]\n",
      "48 \t158   \t[0.38508804 0.60293372]\t[0.40735997 0.3704599 ]\t[0. 0.]\t[1. 1.]\n",
      "49 \t154   \t[0.36902247 0.61917154]\t[0.4042471 0.368323 ]  \t[0. 0.]\t[1. 1.]\n",
      "50 \t162   \t[0.36656952 0.62505848]\t[0.40414638 0.36565958]\t[0. 0.]\t[1. 1.]\n",
      "51 \t171   \t[0.36115361 0.62906433]\t[0.40518027 0.36904346]\t[0. 0.]\t[1. 1.]\n",
      "52 \t171   \t[0.35330905 0.63879142]\t[0.40365172 0.36571871]\t[0. 0.]\t[1. 1.]\n",
      "53 \t143   \t[0.35775956 0.6337037 ]\t[0.40518948 0.36666991]\t[0. 0.]\t[1. 1.]\n",
      "54 \t153   \t[0.3685003  0.62266082]\t[0.40755018 0.36823467]\t[0. 0.]\t[1. 1.]\n",
      "55 \t166   \t[0.36646023 0.62202729]\t[0.40670848 0.36790825]\t[0. 0.]\t[1. 1.]\n",
      "56 \t168   \t[0.36389192 0.62449318]\t[0.40286978 0.36351718]\t[0. 0.]\t[1. 1.]\n",
      "57 \t183   \t[0.36811779 0.61302144]\t[0.40240754 0.36803206]\t[0. 0.]\t[1. 1.]\n",
      "58 \t171   \t[0.37819065 0.60626706]\t[0.40613103 0.37187433]\t[0. 0.]\t[1. 1.]\n",
      "59 \t173   \t[0.37908925 0.60503899]\t[0.40250978 0.36562311]\t[0. 0.]\t[1. 1.]\n",
      "60 \t164   \t[0.38469945 0.60216374]\t[0.40743041 0.36802413]\t[0. 0.]\t[1. 1.]\n",
      "61 \t144   \t[0.37763813 0.60933723]\t[0.40245609 0.36357528]\t[0. 0.]\t[1. 1.]\n",
      "62 \t165   \t[0.37473588 0.60975634]\t[0.40222653 0.36313281]\t[0. 0.]\t[1. 1.]\n",
      "63 \t157   \t[0.36819672 0.61531189]\t[0.40202333 0.36347573]\t[0. 0.]\t[1. 1.]\n",
      "64 \t172   \t[0.37436551 0.6061501 ]\t[0.40923865 0.3748705 ]\t[0. 0.]\t[1. 1.]\n",
      "65 \t157   \t[0.36961749 0.60832359]\t[0.41126583 0.37810546]\t[0. 0.]\t[1. 1.]\n",
      "66 \t160   \t[0.37176078 0.60702729]\t[0.4123359  0.38302806]\t[0. 0.]\t[1. 1.]\n",
      "67 \t166   \t[0.37795386 0.59966862]\t[0.41362251 0.38445262]\t[0. 0.]\t[1. 1.]\n",
      "68 \t168   \t[0.3724833  0.60111111]\t[0.41431576 0.38788895]\t[0. 0.]\t[1. 1.]\n",
      "69 \t172   \t[0.37112325 0.60180312]\t[0.41503132 0.38706798]\t[0. 0.]\t[1. 1.]\n",
      "70 \t172   \t[0.35647845 0.61422027]\t[0.40969302 0.3843859 ]\t[0. 0.]\t[1. 1.]\n",
      "71 \t161   \t[0.37251973 0.60612086]\t[0.41312376 0.38214365]\t[0. 0.]\t[1. 1.]\n",
      "72 \t183   \t[0.36581664 0.61367446]\t[0.41274866 0.38005212]\t[0. 0.]\t[1. 1.]\n",
      "73 \t158   \t[0.3729326  0.60626706]\t[0.4125017  0.38172145]\t[0. 0.]\t[1. 1.]\n",
      "74 \t185   \t[0.37513661 0.60431774]\t[0.41223971 0.38140663]\t[0. 0.]\t[1. 1.]\n",
      "75 \t160   \t[0.38905282 0.59352827]\t[0.41491091 0.38194999]\t[0. 0.]\t[1. 1.]\n",
      "76 \t167   \t[0.38896782 0.59160819]\t[0.4154052  0.38406676]\t[0. 0.]\t[1. 1.]\n",
      "77 \t139   \t[0.38500304 0.5980117 ]\t[0.41633657 0.38577026]\t[0. 0.]\t[1. 1.]\n",
      "78 \t166   \t[0.38417729 0.59888889]\t[0.41459185 0.38597873]\t[0. 0.]\t[1. 1.]\n",
      "79 \t157   \t[0.37540984 0.6061501 ]\t[0.41194217 0.38239099]\t[0. 0.]\t[1. 1.]\n",
      "80 \t162   \t[0.37692168 0.60576998]\t[0.41291009 0.38300518]\t[0. 0.]\t[1. 1.]\n",
      "81 \t157   \t[0.39669702 0.59330409]\t[0.41697572 0.38381046]\t[0. 0.]\t[1. 1.]\n",
      "82 \t171   \t[0.38396478 0.60748538]\t[0.41390204 0.38342379]\t[0. 0.]\t[1. 1.]\n",
      "83 \t159   \t[0.37419551 0.61482456]\t[0.40673777 0.37636986]\t[0. 0.]\t[1. 1.]\n",
      "84 \t167   \t[0.39897996 0.59237817]\t[0.4155758  0.38377659]\t[0. 0.]\t[1. 1.]\n",
      "85 \t167   \t[0.39344869 0.59596491]\t[0.41217058 0.38025565]\t[0. 0.]\t[1. 1.]\n",
      "86 \t159   \t[0.38672131 0.60504873]\t[0.41265543 0.38041488]\t[0. 0.]\t[1. 1.]\n",
      "87 \t178   \t[0.3956952  0.59536062]\t[0.41516394 0.38415367]\t[0. 0.]\t[1. 1.]\n",
      "88 \t169   \t[0.40251973 0.59183236]\t[0.41630872 0.38546605]\t[0. 0.]\t[1. 1.]\n",
      "89 \t166   \t[0.3934912  0.60356725]\t[0.41169484 0.37939897]\t[0. 0.]\t[1. 1.]\n"
     ]
    }
   ],
   "source": [
    "# NGEN = 50\n",
    "# MU = 50\n",
    "# LAMBDA = 100\n",
    "# CXPB = 0.5\n",
    "# MUTPB = 0.2\n",
    "\n",
    "# pop = toolbox.population(n=MU)\n",
    "# hof = tools.ParetoFront()\n",
    "# stats = tools.Statistics(lambda ind: ind.fitness.values)\n",
    "# stats.register(\"avg\", np.mean, axis=0)\n",
    "# stats.register(\"std\", np.std, axis=0)\n",
    "# stats.register(\"min\", np.min, axis=0)\n",
    "# stats.register(\"max\", np.max, axis=0)\n",
    "\n",
    "# pop, logbook = algorithms.eaMuPlusLambda(pop, toolbox, MU, LAMBDA, CXPB, MUTPB, NGEN, stats,\n",
    "#                           halloffame=hof)\n",
    "\n",
    "\n",
    "ngen = 100\n",
    "cxpb = 0.5\n",
    "mutpb = 0.1\n",
    "hof = tools.ParetoFront()\n",
    "\n",
    "avg_list = []\n",
    "max_list = []\n",
    "min_list = []\n",
    "\n",
    "best_ind = tools.selBest(population, 1)[0]\n",
    "gen_best = 0\n",
    "\n",
    "stats = tools.Statistics(lambda ind: ind.fitness.values)\n",
    "stats.register(\"avg\", np.mean, axis=0)\n",
    "stats.register(\"std\", np.std, axis=0)\n",
    "stats.register(\"min\", np.min, axis=0)\n",
    "stats.register(\"max\", np.max, axis=0)\n",
    "\n",
    "logbook = tools.Logbook()\n",
    "logbook.header = ['gen', 'nevals'] + stats.fields\n",
    "\n",
    "\n",
    "# Evaluate the individuals with an invalid fitness\n",
    "invalid_ind = [ind for ind in population if not ind.fitness.valid]\n",
    "fitnesses = toolbox.map(toolbox.evaluate, invalid_ind)\n",
    "for ind, fit in zip(invalid_ind, fitnesses):\n",
    "    ind.fitness.values = fit\n",
    "    \n",
    "record = stats.compile(population)\n",
    "logbook.record(gen=0, nevals=len(invalid_ind), **record)\n",
    "\n",
    "print(logbook.stream)\n",
    "\n",
    "for gen in range(1, ngen + 1):\n",
    "    # Select the next generation individuals\n",
    "    offspring = toolbox.select(population, len(population))\n",
    "\n",
    "    # Vary the pool of individuals\n",
    "    offspring = [toolbox.clone(ind) for ind in population]\n",
    "\n",
    "    # Apply crossover and mutation on the offspring\n",
    "    for i in range(1, len(offspring), 2):\n",
    "        if random.random() < cxpb:\n",
    "            offspring[i - 1], offspring[i] = toolbox.mate(offspring[i - 1],\n",
    "                                                          offspring[i])\n",
    "            del offspring[i - 1].fitness.values, offspring[i].fitness.values\n",
    "\n",
    "    for i in range(len(offspring)):\n",
    "        if random.random() < mutpb:\n",
    "            offspring[i], = toolbox.mutate(offspring[i])\n",
    "            del offspring[i].fitness.values\n",
    "\n",
    "        # Evaluate the individuals with an invalid fitness\n",
    "    invalid_ind = [ind for ind in offspring if not ind.fitness.valid]\n",
    "    fitnesses = toolbox.map(toolbox.evaluate, invalid_ind)\n",
    "    for ind, fit in zip(invalid_ind, fitnesses):\n",
    "        ind.fitness.values = fit\n",
    "\n",
    "        # Update the hall of fame with the generated individuals\n",
    "    hof.update(offspring)\n",
    "    \n",
    "    if sum(tools.selBest(population, 1)[0].fitness.values) < sum(best_ind.fitness.values):\n",
    "        best_ind = tools.selBest(population, 1)[0]\n",
    "        gen_best = gen\n",
    "\n",
    "        # Replace the current population by the offspring\n",
    "    population[:] = offspring\n",
    "    \n",
    "    record = stats.compile(population) if stats else {}\n",
    "    logbook.record(gen=gen, nevals=len(invalid_ind), **record)\n",
    "    \n",
    "    print(logbook.stream)\n",
    "\n",
    "print(\"Best individual is %s, %s, from gen %s\" % (best_ind, best_ind.fitness.values, gen_best))"
   ]
  },
  {
   "cell_type": "code",
   "execution_count": null,
   "metadata": {},
   "outputs": [],
   "source": [
    "print(\"Best individual is: %s\\nwith fitness: %s\" % (hof[0], hof[0].fitness))\n",
    "gen, avg, min_, max_ = logbook.select(\"gen\", \"avg\", \"min\", \"max\")\n",
    "plt.plot(gen, avg, label=\"average\")\n",
    "plt.plot(gen, min_, label=\"minimum\")\n",
    "plt.xlabel(\"Generation\")\n",
    "plt.ylabel(\"Fitness\")\n",
    "plt.legend(loc=\"upper left\")\n",
    "plt.show()"
   ]
  },
  {
   "cell_type": "code",
   "execution_count": 39,
   "metadata": {},
   "outputs": [
    {
     "data": {
      "image/png": "[encoded data removed]",
      "text/plain": [
       "<Figure size 432x288 with 1 Axes>"
      ]
     },
     "metadata": {
      "needs_background": "light"
     },
     "output_type": "display_data"
    },
    {
     "name": "stdout",
     "output_type": "stream",
     "text": [
      "Area Under Curve: 0.0\n"
     ]
    }
   ],
   "source": [
    "# \"\"\"Split fitness values into separate lists\"\"\"\n",
    "# fitness_1 = [ind.fitness.values[0] for ind in hof]\n",
    "# fitness_2 = [ind.fitness.values[1] for ind in hof]\n",
    "# pop_1 = [ind.fitness.values[0] for ind in pop]\n",
    "# pop_2 = [ind.fitness.values[1] for ind in pop]\n",
    "\n",
    "# '''Print dominated population for debugging'''\n",
    "# # for ind in pop:\n",
    "# #     print(ind.fitness)\n",
    "\n",
    "# plt.scatter(pop_1, pop_2, color='b')\n",
    "# plt.scatter(fitness_1, fitness_2, color='r')\n",
    "# plt.plot(fitness_1, fitness_2, color='r', drawstyle='steps-post')\n",
    "# plt.xlabel(\"Mean Squared Error\")\n",
    "# plt.ylabel(\"Tree Size\")\n",
    "# plt.title(\"Pareto Front\")\n",
    "# plt.show()\n",
    "\n",
    "# f1 = np.array(fitness_1)\n",
    "# f2 = np.array(fitness_2)\n",
    "\n",
    "# \"\"\"Calculate area under curve with least squares method\"\"\"\n",
    "# print(\"Area Under Curve: %s\" % (np.sum(np.abs(np.diff(f1))*f2[:-1])))\n",
    "\n",
    "\n",
    "\"\"\"Split fitness values into separate lists\"\"\"\n",
    "fitness_1 = [ind.fitness.values[0] for ind in hof]\n",
    "fitness_2 = [ind.fitness.values[1] for ind in hof]\n",
    "pop_1 = [ind.fitness.values[0] for ind in population]\n",
    "pop_2 = [ind.fitness.values[1] for ind in population]\n",
    "\n",
    "'''Print dominated population for debugging'''\n",
    "# for ind in pop:\n",
    "#     print(ind.fitness)\n",
    "\n",
    "plt.scatter(pop_1, pop_2, color='b')\n",
    "plt.scatter(fitness_1, fitness_2, color='r')\n",
    "plt.plot(fitness_1, fitness_2, color='r', drawstyle='steps-post')\n",
    "plt.xlabel(\"False Positive\")\n",
    "plt.ylabel(\"False Negative\")\n",
    "plt.title(\"Pareto Front\")\n",
    "plt.ylim(bottom=0.0)\n",
    "plt.xlim(left=0.0)\n",
    "plt.show()\n",
    "\n",
    "f1 = np.array(fitness_1)\n",
    "f2 = np.array(fitness_2)\n",
    "\n",
    "\"\"\"Calculate area under curve with least squares method\"\"\"\n",
    "print(\"Area Under Curve: %s\" % (np.sum(np.abs(np.diff(f1))*f2[:-1])))"
   ]
  },
  {
   "cell_type": "code",
   "execution_count": null,
   "metadata": {},
   "outputs": [],
   "source": []
  },
  {
   "cell_type": "code",
   "execution_count": null,
   "metadata": {},
   "outputs": [],
   "source": []
  }
 ],
 "metadata": {
  "@webio": {
   "lastCommId": null,
   "lastKernelId": null
  },
  "kernelspec": {
   "display_name": "Python 3",
   "language": "python",
   "name": "python3"
  },
  "language_info": {
   "codemirror_mode": {
    "name": "ipython",
    "version": 3
   },
   "file_extension": ".py",
   "mimetype": "text/x-python",
   "name": "python",
   "nbconvert_exporter": "python",
   "pygments_lexer": "ipython3",
   "version": "3.7.4"
  }
 },
 "nbformat": 4,
 "nbformat_minor": 2
}
