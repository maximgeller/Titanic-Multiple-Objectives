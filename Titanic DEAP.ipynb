{
 "cells": [
  {
   "cell_type": "code",
   "execution_count": 1,
   "metadata": {},
   "outputs": [],
   "source": [
    "import random\n",
    "import operator\n",
    "import itertools\n",
    "import math\n",
    "\n",
    "import numpy as np\n",
    "import pandas as pd\n",
    "import matplotlib.pyplot as plt\n",
    "from sklearn.metrics import confusion_matrix\n",
    "\n",
    "from deap import algorithms\n",
    "from deap import base\n",
    "from deap import creator\n",
    "from deap import tools\n",
    "from deap import gp"
   ]
  },
  {
   "cell_type": "code",
   "execution_count": 2,
   "metadata": {},
   "outputs": [
    {
     "data": {
      "text/html": [
       "<div>\n",
       "<style scoped>\n",
       "    .dataframe tbody tr th:only-of-type {\n",
       "        vertical-align: middle;\n",
       "    }\n",
       "\n",
       "    .dataframe tbody tr th {\n",
       "        vertical-align: top;\n",
       "    }\n",
       "\n",
       "    .dataframe thead th {\n",
       "        text-align: right;\n",
       "    }\n",
       "</style>\n",
       "<table border=\"1\" class=\"dataframe\">\n",
       "  <thead>\n",
       "    <tr style=\"text-align: right;\">\n",
       "      <th></th>\n",
       "      <th>Pclass</th>\n",
       "      <th>Sex</th>\n",
       "      <th>Age</th>\n",
       "      <th>SibSp</th>\n",
       "      <th>Parch</th>\n",
       "      <th>Fare</th>\n",
       "      <th>Embarked</th>\n",
       "      <th>Deck</th>\n",
       "    </tr>\n",
       "    <tr>\n",
       "      <th>PassengerId</th>\n",
       "      <th></th>\n",
       "      <th></th>\n",
       "      <th></th>\n",
       "      <th></th>\n",
       "      <th></th>\n",
       "      <th></th>\n",
       "      <th></th>\n",
       "      <th></th>\n",
       "    </tr>\n",
       "  </thead>\n",
       "  <tbody>\n",
       "    <tr>\n",
       "      <td>1</td>\n",
       "      <td>3.0</td>\n",
       "      <td>0.0</td>\n",
       "      <td>22.0</td>\n",
       "      <td>1.0</td>\n",
       "      <td>0.0</td>\n",
       "      <td>7.2500</td>\n",
       "      <td>2.0</td>\n",
       "      <td>3.0</td>\n",
       "    </tr>\n",
       "    <tr>\n",
       "      <td>2</td>\n",
       "      <td>1.0</td>\n",
       "      <td>1.0</td>\n",
       "      <td>38.0</td>\n",
       "      <td>1.0</td>\n",
       "      <td>0.0</td>\n",
       "      <td>71.2833</td>\n",
       "      <td>0.0</td>\n",
       "      <td>0.0</td>\n",
       "    </tr>\n",
       "    <tr>\n",
       "      <td>3</td>\n",
       "      <td>3.0</td>\n",
       "      <td>1.0</td>\n",
       "      <td>26.0</td>\n",
       "      <td>0.0</td>\n",
       "      <td>0.0</td>\n",
       "      <td>7.9250</td>\n",
       "      <td>2.0</td>\n",
       "      <td>3.0</td>\n",
       "    </tr>\n",
       "    <tr>\n",
       "      <td>4</td>\n",
       "      <td>1.0</td>\n",
       "      <td>1.0</td>\n",
       "      <td>35.0</td>\n",
       "      <td>1.0</td>\n",
       "      <td>0.0</td>\n",
       "      <td>53.1000</td>\n",
       "      <td>2.0</td>\n",
       "      <td>0.0</td>\n",
       "    </tr>\n",
       "    <tr>\n",
       "      <td>5</td>\n",
       "      <td>3.0</td>\n",
       "      <td>0.0</td>\n",
       "      <td>35.0</td>\n",
       "      <td>0.0</td>\n",
       "      <td>0.0</td>\n",
       "      <td>8.0500</td>\n",
       "      <td>2.0</td>\n",
       "      <td>3.0</td>\n",
       "    </tr>\n",
       "  </tbody>\n",
       "</table>\n",
       "</div>"
      ],
      "text/plain": [
       "             Pclass  Sex   Age  SibSp  Parch     Fare  Embarked  Deck\n",
       "PassengerId                                                          \n",
       "1               3.0  0.0  22.0    1.0    0.0   7.2500       2.0   3.0\n",
       "2               1.0  1.0  38.0    1.0    0.0  71.2833       0.0   0.0\n",
       "3               3.0  1.0  26.0    0.0    0.0   7.9250       2.0   3.0\n",
       "4               1.0  1.0  35.0    1.0    0.0  53.1000       2.0   0.0\n",
       "5               3.0  0.0  35.0    0.0    0.0   8.0500       2.0   3.0"
      ]
     },
     "execution_count": 2,
     "metadata": {},
     "output_type": "execute_result"
    }
   ],
   "source": [
    "# peek at features\n",
    "# TODO: set passenger id as index and filter out the target feature\n",
    "df = pd.read_csv(\"clean_train_data.csv\", index_col = \"PassengerId\")\n",
    "X = df.loc[:, df.columns != \"Survived\"]\n",
    "truth = df[\"Survived\"]\n",
    "X = X.astype(float)\n",
    "X.head()"
   ]
  },
  {
   "cell_type": "code",
   "execution_count": 3,
   "metadata": {},
   "outputs": [],
   "source": [
    "# create fitness for MO: FP and FN\n",
    "creator.create(\"FitnessMin\", base.Fitness, weights=(-1.0,-1.0))\n",
    "creator.create(\"Individual\", gp.PrimitiveTree, fitness=creator.FitnessMin)"
   ]
  },
  {
   "cell_type": "code",
   "execution_count": 4,
   "metadata": {},
   "outputs": [],
   "source": [
    "# TODO: create helper functions for primitives\n",
    "def divide_by_zero(a, b):\n",
    "    if b == 0:\n",
    "        return 0\n",
    "    else:\n",
    "        return a / b"
   ]
  },
  {
   "cell_type": "code",
   "execution_count": 5,
   "metadata": {},
   "outputs": [],
   "source": [
    "def if_then_else(input, output1, output2):\n",
    "    if input: \n",
    "        return output1\n",
    "    else: \n",
    "        return output2"
   ]
  },
  {
   "cell_type": "code",
   "execution_count": 6,
   "metadata": {},
   "outputs": [],
   "source": [
    "# TODO: func for float to bool\n",
    "def float_to_bool(f):\n",
    "    return f > 0"
   ]
  },
  {
   "cell_type": "code",
   "execution_count": 7,
   "metadata": {},
   "outputs": [],
   "source": [
    "# def sigmoid(inp):\n",
    "#     return 1 / (1 + math.exp(-inp))"
   ]
  },
  {
   "cell_type": "code",
   "execution_count": 8,
   "metadata": {},
   "outputs": [],
   "source": [
    "random.seed(25)\n",
    "pset = gp.PrimitiveSetTyped(\"main\", itertools.repeat(float, 8), bool) \n",
    "\n",
    "pset.addPrimitive(operator.add, [float, float], float)\n",
    "pset.addPrimitive(operator.sub, [float, float], float)\n",
    "pset.addPrimitive(operator.mul, [float, float], float)\n",
    "pset.addPrimitive(divide_by_zero, [float, float], float)\n",
    "# pset.addPrimitive(sigmoid, [float], float)\n",
    "\n",
    "pset.addPrimitive(operator.and_, [bool, bool], bool)\n",
    "pset.addPrimitive(operator.or_, [bool, bool], bool)\n",
    "pset.addPrimitive(operator.not_, [bool], bool)\n",
    "pset.addPrimitive(operator.xor, [bool, bool], bool)\n",
    "pset.addPrimitive(float_to_bool, [float], bool)\n",
    "\n",
    "pset.addPrimitive(operator.lt, [float, float], bool)\n",
    "pset.addPrimitive(operator.eq, [float, float], bool)\n",
    "pset.addPrimitive(if_then_else, [bool, float, float], float)\n",
    "\n",
    "pset.addTerminal(0, bool)\n",
    "pset.addTerminal(1, bool)\n",
    "\n",
    "pset.renameArguments(ARG0='Pclass', ARG1='Sex', ARG2='Age', ARG3='SibSp', ARG4='Parch', ARG5=\"Fare\", ARG6=\"Embarked\", ARG7=\"Deck\")"
   ]
  },
  {
   "cell_type": "code",
   "execution_count": 9,
   "metadata": {},
   "outputs": [],
   "source": [
    "# create toolbox\n",
    "toolbox = base.Toolbox()\n",
    "toolbox.register(\"expr\", gp.genHalfAndHalf, pset=pset, min_=1, max_=10)\n",
    "toolbox.register(\"individual\", tools.initIterate, creator.Individual, toolbox.expr)\n",
    "toolbox.register(\"population\", tools.initRepeat, list, toolbox.individual)\n",
    "toolbox.register(\"compile\", gp.compile, pset=pset)"
   ]
  },
  {
   "cell_type": "code",
   "execution_count": 10,
   "metadata": {},
   "outputs": [],
   "source": [
    "def eval_function(individual, points, pset):\n",
    "    func = gp.compile(expr=individual, pset=pset)\n",
    "    results = [func(*points[x]) for x in range(len(points))]\n",
    "    tn, fp, fn, tp = confusion_matrix(truth, results).ravel()\n",
    "    return fp/(tn + fp), fn/(tp + fn)"
   ]
  },
  {
   "cell_type": "code",
   "execution_count": 11,
   "metadata": {},
   "outputs": [],
   "source": [
    "toolbox.register(\"evaluate\", eval_function, points=X.values, pset=pset)\n",
    "toolbox.register(\"select\", tools.selNSGA2)\n",
    "toolbox.register(\"mate\", gp.cxOnePoint)\n",
    "toolbox.register(\"expr_mut\", gp.genFull, min_=2, max_=5)\n",
    "toolbox.register(\"mutate\", gp.mutUniform, expr=toolbox.expr_mut, pset=pset)\n",
    "\n",
    "toolbox.decorate(\"mate\", gp.staticLimit(key=operator.attrgetter(\"height\"), max_value=17))\n",
    "toolbox.decorate(\"mutate\", gp.staticLimit(key=operator.attrgetter(\"height\"), max_value=17))"
   ]
  },
  {
   "cell_type": "code",
   "execution_count": 12,
   "metadata": {},
   "outputs": [
    {
     "name": "stdout",
     "output_type": "stream",
     "text": [
      "eq(add(sub(mul(Deck, Pclass), mul(Pclass, Parch)), if_then_else(xor(0, 0), if_then_else(0, Fare, Age), if_then_else(1, Deck, Sex))), add(if_then_else(float_to_bool(Fare), divide_by_zero(Fare, SibSp), sub(Deck, Sex)), add(divide_by_zero(Sex, Age), add(Age, Sex))))\n",
      "(0.0, 1.0)\n"
     ]
    }
   ],
   "source": [
    "expr = gp.genFull(pset, min_=1, max_=5)\n",
    "tree = gp.PrimitiveTree(expr)\n",
    "print(str(tree))\n",
    "print(str(eval_function(tree, X.values, pset)))"
   ]
  },
  {
   "cell_type": "code",
   "execution_count": 13,
   "metadata": {},
   "outputs": [],
   "source": [
    "def pareto_dominance(ind1, ind2):\n",
    "    not_equal = False\n",
    "    for value_1, value_2 in zip(ind1.fitness.values, ind2.fitness.values):\n",
    "        if value_1 > value_2:\n",
    "            return False\n",
    "        elif value_1 < value_2:\n",
    "            not_equal = True\n",
    "    return not_equal"
   ]
  },
  {
   "cell_type": "code",
   "execution_count": 14,
   "metadata": {},
   "outputs": [],
   "source": [
    "population = toolbox.population(n=300)"
   ]
  },
  {
   "cell_type": "code",
   "execution_count": 15,
   "metadata": {},
   "outputs": [],
   "source": [
    "fitnesses = list(map(toolbox.evaluate, population))\n",
    "for ind, fit in zip(population, fitnesses):\n",
    "    ind.fitness.values = fit\n",
    "\n",
    "a_given_individual = toolbox.population(n=1)[0]\n",
    "a_given_individual.fitness.values = toolbox.evaluate(a_given_individual)"
   ]
  },
  {
   "cell_type": "code",
   "execution_count": 16,
   "metadata": {},
   "outputs": [],
   "source": [
    "dominated = [ind for ind in population if pareto_dominance(a_given_individual, ind)]\n",
    "dominators = [ind for ind in population if pareto_dominance(ind, a_given_individual)]\n",
    "others = [ind for ind in population if not ind in dominated and not ind in dominators]"
   ]
  },
  {
   "cell_type": "code",
   "execution_count": 17,
   "metadata": {},
   "outputs": [
    {
     "name": "stdout",
     "output_type": "stream",
     "text": [
      "38\n",
      "0.2134502923976608\n",
      "259\n"
     ]
    }
   ],
   "source": [
    "print(len(dominated))\n",
    "print((dominators[1].fitness.values[1]))\n",
    "print(len(others))"
   ]
  },
  {
   "cell_type": "code",
   "execution_count": 18,
   "metadata": {},
   "outputs": [
    {
     "data": {
      "image/png": "[encoded data removed]",
      "text/plain": [
       "<Figure size 432x288 with 1 Axes>"
      ]
     },
     "metadata": {
      "needs_background": "light"
     },
     "output_type": "display_data"
    }
   ],
   "source": [
    "for ind in dominators: plt.plot(ind.fitness.values[0], ind.fitness.values[1], 'r.', alpha=0.7)\n",
    "for ind in dominated: plt.plot(ind.fitness.values[0], ind.fitness.values[1], 'g.', alpha=0.7)\n",
    "for ind in others: plt.plot(ind.fitness.values[0], ind.fitness.values[1], 'k.', alpha=0.7, ms=3)\n",
    "plt.plot(a_given_individual.fitness.values[0], a_given_individual.fitness.values[1], 'bo', ms=6);\n",
    "plt.xlabel('Mean Squared Error');plt.ylabel('Tree Size');\n",
    "plt.title('Objective space');\n",
    "plt.tight_layout()\n",
    "plt.show()"
   ]
  },
  {
   "cell_type": "code",
   "execution_count": 19,
   "metadata": {},
   "outputs": [
    {
     "name": "stdout",
     "output_type": "stream",
     "text": [
      "gen\tnevals\tavg                    \tstd                    \tmin    \tmax    \n",
      "0  \t0     \t[0.43379478 0.55765107]\t[0.42791065 0.40037213]\t[0. 0.]\t[1. 1.]\n",
      "1  \t173   \t[0.4276017 0.5677193]  \t[0.42609155 0.3971028 ]\t[0. 0.]\t[1. 1.]\n",
      "2  \t146   \t[0.45041894 0.54735867]\t[0.42795519 0.39563876]\t[0. 0.]\t[1. 1.]\n",
      "3  \t163   \t[0.44588342 0.54737817]\t[0.42629834 0.3959215 ]\t[0. 0.]\t[1. 1.]\n",
      "4  \t185   \t[0.43453552 0.55252437]\t[0.42095507 0.38957153]\t[0. 0.]\t[1. 1.]\n",
      "5  \t158   \t[0.41795993 0.57203704]\t[0.42167021 0.39344005]\t[0. 0.]\t[1. 1.]\n",
      "6  \t164   \t[0.40914997 0.57944444]\t[0.41937493 0.38963208]\t[0. 0.]\t[1. 1.]\n",
      "7  \t165   \t[0.39783849 0.58467836]\t[0.41401821 0.38649011]\t[0. 0.]\t[1. 1.]\n",
      "8  \t165   \t[0.39746812 0.58417154]\t[0.41459569 0.38587749]\t[0. 0.]\t[1. 1.]\n",
      "9  \t155   \t[0.41850638 0.56999025]\t[0.42001632 0.39144202]\t[0. 0.]\t[1. 1.]\n",
      "10 \t154   \t[0.41189435 0.57306043]\t[0.41862684 0.38928353]\t[0. 0.]\t[1. 1.]\n",
      "11 \t151   \t[0.42059502 0.56762183]\t[0.41706195 0.38806869]\t[0. 0.]\t[1. 1.]\n",
      "12 \t165   \t[0.41142077 0.58607212]\t[0.41518493 0.38201788]\t[0. 0.]\t[1. 1.]\n",
      "13 \t180   \t[0.3963388  0.60093567]\t[0.41176566 0.3796262 ]\t[0. 0.]\t[1. 1.]\n",
      "14 \t146   \t[0.4008561  0.59097466]\t[0.41406026 0.38279832]\t[0. 0.]\t[1. 1.]\n",
      "15 \t166   \t[0.4        0.59606238]\t[0.41246296 0.3828111 ]\t[0. 0.]\t[1. 1.]\n",
      "16 \t143   \t[0.39309047 0.60415205]\t[0.4087346  0.37557607]\t[0. 0.]\t[1. 1.]\n",
      "17 \t145   \t[0.39421979 0.60049708]\t[0.40815779 0.37194262]\t[0. 0.]\t[1. 1.]\n",
      "18 \t156   \t[0.39295082 0.60111111]\t[0.40610198 0.36926792]\t[0. 0.]\t[1. 1.]\n",
      "19 \t148   \t[0.39902247 0.5902924 ]\t[0.40882961 0.37512397]\t[0. 0.]\t[1. 1.]\n",
      "20 \t163   \t[0.39357013 0.59994152]\t[0.40566425 0.37251807]\t[0. 0.]\t[1. 1.]\n",
      "21 \t187   \t[0.38097753 0.60793372]\t[0.40001808 0.36840101]\t[0. 0.]\t[1. 1.]\n",
      "22 \t158   \t[0.37856709 0.61365497]\t[0.39903589 0.36673474]\t[0. 0.]\t[1. 1.]\n",
      "23 \t163   \t[0.38443837 0.60272904]\t[0.40269474 0.37226654]\t[0. 0.]\t[1. 1.]\n",
      "24 \t168   \t[0.39072253 0.59807018]\t[0.40445167 0.37389733]\t[0. 0.]\t[1. 1.]\n",
      "25 \t165   \t[0.38882817 0.60038986]\t[0.40358628 0.37144312]\t[0. 0.]\t[1. 1.]\n",
      "26 \t186   \t[0.3843473  0.60501949]\t[0.40560853 0.37400343]\t[0. 0.]\t[1. 1.]\n",
      "27 \t164   \t[0.39534305 0.60192008]\t[0.40530121 0.37080193]\t[0. 0.]\t[1. 1.]\n",
      "28 \t173   \t[0.38542198 0.60232943]\t[0.39893824 0.36702468]\t[0. 0.]\t[1. 1.]\n",
      "29 \t169   \t[0.39599271 0.59476608]\t[0.40096896 0.36853624]\t[0. 0.]\t[1. 1.]\n",
      "30 \t172   \t[0.39791743 0.59394737]\t[0.40058943 0.36656662]\t[0. 0.]\t[1. 1.]\n",
      "31 \t165   \t[0.38578021 0.60333333]\t[0.39639687 0.36314955]\t[0. 0.]\t[1. 1.]\n",
      "32 \t174   \t[0.37234973 0.6138694 ]\t[0.38981412 0.35686461]\t[0. 0.]\t[1. 1.]\n",
      "33 \t169   \t[0.37223437 0.61296296]\t[0.39065509 0.35810186]\t[0. 0.]\t[1. 1.]\n",
      "34 \t150   \t[0.38018822 0.60851852]\t[0.39386289 0.35918019]\t[0. 0.]\t[1. 1.]\n",
      "35 \t161   \t[0.38249545 0.606423  ]\t[0.39304201 0.35802323]\t[0. 0.]\t[1. 1.]\n",
      "36 \t153   \t[0.3867456  0.60696881]\t[0.40201617 0.36667207]\t[0. 0.]\t[1. 1.]\n",
      "37 \t155   \t[0.39011536 0.60400585]\t[0.4028522  0.36724042]\t[0. 0.]\t[1. 1.]\n",
      "38 \t152   \t[0.39902247 0.592846  ]\t[0.402361   0.36748178]\t[0. 0.]\t[1. 1.]\n",
      "39 \t165   \t[0.40054645 0.59796296]\t[0.40296211 0.36654443]\t[0. 0.]\t[1. 1.]\n",
      "40 \t186   \t[0.40934426 0.5844347 ]\t[0.40665265 0.36882471]\t[0. 0.]\t[1. 1.]\n",
      "41 \t150   \t[0.41508197 0.57800195]\t[0.40723405 0.37092652]\t[0. 0.]\t[1. 1.]\n",
      "42 \t156   \t[0.41485124 0.58022417]\t[0.40519457 0.36635898]\t[0. 0.]\t[1. 1.]\n",
      "43 \t160   \t[0.41323012 0.57949318]\t[0.40519749 0.36918851]\t[0. 0.]\t[1. 1.]\n",
      "44 \t139   \t[0.4007286 0.5905848]  \t[0.40192043 0.36750629]\t[0. 0.]\t[1. 1.]\n",
      "45 \t142   \t[0.39956284 0.59073099]\t[0.3982359  0.36159266]\t[0. 0.]\t[1. 1.]\n",
      "46 \t169   \t[0.40306618 0.58766082]\t[0.39660286 0.35898471]\t[0. 0.]\t[1. 1.]\n",
      "47 \t161   \t[0.40681846 0.58572125]\t[0.40031012 0.36434473]\t[0. 0.]\t[1. 1.]\n",
      "48 \t164   \t[0.40301154 0.59061404]\t[0.40098409 0.36436006]\t[0. 0.]\t[1. 1.]\n",
      "49 \t159   \t[0.41206436 0.58114035]\t[0.40409504 0.3669084 ]\t[0. 0.]\t[1. 1.]\n",
      "50 \t167   \t[0.40969035 0.58484405]\t[0.405383 0.369181]    \t[0. 0.]\t[1. 1.]\n",
      "51 \t175   \t[0.4123558  0.58190058]\t[0.40739695 0.37024653]\t[0. 0.]\t[1. 1.]\n",
      "52 \t185   \t[0.4140255  0.57992203]\t[0.41100182 0.37526992]\t[0. 0.]\t[1. 1.]\n",
      "53 \t148   \t[0.41070431 0.58381092]\t[0.41220052 0.37644042]\t[0. 0.]\t[1. 1.]\n",
      "54 \t161   \t[0.41536126 0.57764133]\t[0.41074119 0.37606857]\t[0. 0.]\t[1. 1.]\n",
      "55 \t155   \t[0.42449302 0.56988304]\t[0.41311084 0.37859536]\t[0. 0.]\t[1. 1.]\n",
      "56 \t152   \t[0.42400121 0.5684308 ]\t[0.41097514 0.37760507]\t[0. 0.]\t[1. 1.]\n",
      "57 \t174   \t[0.42379478 0.55787524]\t[0.41147073 0.3785986 ]\t[0. 0.]\t[1. 1.]\n",
      "58 \t144   \t[0.4147966  0.56851852]\t[0.40652974 0.37253121]\t[0. 0.]\t[1. 1.]\n",
      "59 \t151   \t[0.41510625 0.57304094]\t[0.40446515 0.37076215]\t[0. 0.]\t[1. 1.]\n",
      "60 \t162   \t[0.41253188 0.56984405]\t[0.40667535 0.37331033]\t[0. 0.]\t[1. 1.]\n",
      "61 \t149   \t[0.41377656 0.56648148]\t[0.40987874 0.37744632]\t[0. 0.]\t[1. 1.]\n",
      "62 \t157   \t[0.4120765  0.56705653]\t[0.41367209 0.38131864]\t[0. 0.]\t[1. 1.]\n",
      "63 \t160   \t[0.41382514 0.57212476]\t[0.41523498 0.38251741]\t[0. 0.]\t[1. 1.]\n",
      "64 \t162   \t[0.42893139 0.56013645]\t[0.4184006  0.38480583]\t[0. 0.]\t[1. 1.]\n",
      "65 \t158   \t[0.41805707 0.56833333]\t[0.41469532 0.38227122]\t[0. 0.]\t[1. 1.]\n",
      "66 \t171   \t[0.40914997 0.57512671]\t[0.41202213 0.38159466]\t[0. 0.]\t[1. 1.]\n",
      "67 \t160   \t[0.42743777 0.56422027]\t[0.4165749  0.38652754]\t[0. 0.]\t[1. 1.]\n",
      "68 \t156   \t[0.43951427 0.55654971]\t[0.41823461 0.3866492 ]\t[0. 0.]\t[1. 1.]\n",
      "69 \t156   \t[0.43607165 0.5578655 ]\t[0.4174873 0.3848379]  \t[0. 0.]\t[1. 1.]\n",
      "70 \t178   \t[0.43071038 0.55832359]\t[0.41282438 0.37793417]\t[0. 0.]\t[1. 1.]\n",
      "71 \t185   \t[0.42605343 0.56500975]\t[0.41197878 0.37795825]\t[0. 0.]\t[1. 1.]\n",
      "72 \t141   \t[0.42615058 0.56353801]\t[0.41555325 0.38370288]\t[0. 0.]\t[1. 1.]\n",
      "73 \t158   \t[0.4327201 0.5570078]  \t[0.41489949 0.38216643]\t[0. 0.]\t[1. 1.]\n",
      "74 \t168   \t[0.4207286  0.56520468]\t[0.41395215 0.38228364]\t[0. 0.]\t[1. 1.]\n",
      "75 \t143   \t[0.42372192 0.56088694]\t[0.41628632 0.38508323]\t[0. 0.]\t[1. 1.]\n",
      "76 \t179   \t[0.40802672 0.57595517]\t[0.41105323 0.38141153]\t[0. 0.]\t[1. 1.]\n",
      "77 \t176   \t[0.40833637 0.57721248]\t[0.4117729  0.38033096]\t[0. 0.]\t[1. 1.]\n",
      "78 \t168   \t[0.40363084 0.5842885 ]\t[0.41022846 0.37906441]\t[0. 0.]\t[1. 1.]\n",
      "79 \t170   \t[0.39702489 0.59024366]\t[0.40853047 0.3765763 ]\t[0. 0.]\t[1. 1.]\n",
      "80 \t169   \t[0.41045537 0.58445419]\t[0.41292407 0.37884692]\t[0. 0.]\t[1. 1.]\n",
      "Best individual is eq(Sex, if_then_else(not_(and_(eq(Sex, Deck), xor(0, 1))), Deck, Pclass)), (0.0, 0.9239766081871345), from gen 42\n"
     ]
    }
   ],
   "source": [
    "# NGEN = 50\n",
    "# MU = 50\n",
    "# LAMBDA = 100\n",
    "# CXPB = 0.5\n",
    "# MUTPB = 0.2\n",
    "\n",
    "# pop = toolbox.population(n=MU)\n",
    "# hof = tools.ParetoFront()\n",
    "# stats = tools.Statistics(lambda ind: ind.fitness.values)\n",
    "# stats.register(\"avg\", np.mean, axis=0)\n",
    "# stats.register(\"std\", np.std, axis=0)\n",
    "# stats.register(\"min\", np.min, axis=0)\n",
    "# stats.register(\"max\", np.max, axis=0)\n",
    "\n",
    "# pop, logbook = algorithms.eaMuPlusLambda(pop, toolbox, MU, LAMBDA, CXPB, MUTPB, NGEN, stats,\n",
    "#                           halloffame=hof)\n",
    "\n",
    "\n",
    "ngen = 80\n",
    "cxpb = 0.5\n",
    "mutpb = 0.1\n",
    "hof = tools.ParetoFront()\n",
    "\n",
    "avg_list = []\n",
    "max_list = []\n",
    "min_list = []\n",
    "\n",
    "best_ind = tools.selBest(population, 1)[0]\n",
    "gen_best = 0\n",
    "\n",
    "stats = tools.Statistics(lambda ind: ind.fitness.values)\n",
    "stats.register(\"avg\", np.mean, axis=0)\n",
    "stats.register(\"std\", np.std, axis=0)\n",
    "stats.register(\"min\", np.min, axis=0)\n",
    "stats.register(\"max\", np.max, axis=0)\n",
    "\n",
    "logbook = tools.Logbook()\n",
    "logbook.header = ['gen', 'nevals'] + stats.fields\n",
    "\n",
    "\n",
    "# Evaluate the individuals with an invalid fitness\n",
    "invalid_ind = [ind for ind in population if not ind.fitness.valid]\n",
    "fitnesses = toolbox.map(toolbox.evaluate, invalid_ind)\n",
    "for ind, fit in zip(invalid_ind, fitnesses):\n",
    "    ind.fitness.values = fit\n",
    "    \n",
    "record = stats.compile(population)\n",
    "logbook.record(gen=0, nevals=len(invalid_ind), **record)\n",
    "\n",
    "print(logbook.stream)\n",
    "\n",
    "for gen in range(1, ngen + 1):\n",
    "    # Select the next generation individuals\n",
    "    offspring = toolbox.select(population, len(population))\n",
    "\n",
    "    # Vary the pool of individuals\n",
    "    offspring = [toolbox.clone(ind) for ind in population]\n",
    "\n",
    "    # Apply crossover and mutation on the offspring\n",
    "    for i in range(1, len(offspring), 2):\n",
    "        if random.random() < cxpb:\n",
    "            offspring[i - 1], offspring[i] = toolbox.mate(offspring[i - 1],\n",
    "                                                          offspring[i])\n",
    "            del offspring[i - 1].fitness.values, offspring[i].fitness.values\n",
    "\n",
    "    for i in range(len(offspring)):\n",
    "        if random.random() < mutpb:\n",
    "            offspring[i], = toolbox.mutate(offspring[i])\n",
    "            del offspring[i].fitness.values\n",
    "\n",
    "        # Evaluate the individuals with an invalid fitness\n",
    "    invalid_ind = [ind for ind in offspring if not ind.fitness.valid]\n",
    "    fitnesses = toolbox.map(toolbox.evaluate, invalid_ind)\n",
    "    for ind, fit in zip(invalid_ind, fitnesses):\n",
    "        ind.fitness.values = fit\n",
    "\n",
    "        # Update the hall of fame with the generated individuals\n",
    "    hof.update(offspring)\n",
    "    \n",
    "    if sum(tools.selBest(population, 1)[0].fitness.values) < sum(best_ind.fitness.values):\n",
    "        best_ind = tools.selBest(population, 1)[0]\n",
    "        gen_best = gen\n",
    "\n",
    "        # Replace the current population by the offspring\n",
    "    population[:] = offspring\n",
    "    \n",
    "    record = stats.compile(population) if stats else {}\n",
    "    logbook.record(gen=gen, nevals=len(invalid_ind), **record)\n",
    "    \n",
    "    print(logbook.stream)\n",
    "\n",
    "print(\"Best individual is %s, %s, from gen %s\" % (best_ind, best_ind.fitness.values, gen_best))"
   ]
  },
  {
   "cell_type": "code",
   "execution_count": 20,
   "metadata": {},
   "outputs": [
    {
     "name": "stdout",
     "output_type": "stream",
     "text": [
      "Best individual is: eq(Sex, if_then_else(not_(and_(eq(Sex, Deck), xor(0, 1))), Deck, Pclass))\n",
      "with fitness: (0.0, 0.9239766081871345)\n"
     ]
    },
    {
     "data": {
      "image/png": "[encoded data removed]",
      "text/plain": [
       "<Figure size 432x288 with 1 Axes>"
      ]
     },
     "metadata": {
      "needs_background": "light"
     },
     "output_type": "display_data"
    }
   ],
   "source": [
    "print(\"Best individual is: %s\\nwith fitness: %s\" % (hof[0], hof[0].fitness))\n",
    "gen, avg, min_, max_ = logbook.select(\"gen\", \"avg\", \"min\", \"max\")\n",
    "plt.plot(gen, avg, label=\"average\")\n",
    "plt.plot(gen, min_, label=\"minimum\")\n",
    "plt.xlabel(\"Generation\")\n",
    "plt.ylabel(\"Fitness\")\n",
    "plt.legend(loc=\"upper left\")\n",
    "plt.show()"
   ]
  },
  {
   "cell_type": "code",
   "execution_count": 21,
   "metadata": {},
   "outputs": [
    {
     "data": {
      "image/png": "[encoded data removed]",
      "text/plain": [
       "<Figure size 432x288 with 1 Axes>"
      ]
     },
     "metadata": {
      "needs_background": "light"
     },
     "output_type": "display_data"
    },
    {
     "name": "stdout",
     "output_type": "stream",
     "text": [
      "Area Under Curve: 0.19976778619286528\n"
     ]
    }
   ],
   "source": [
    "# \"\"\"Split fitness values into separate lists\"\"\"\n",
    "# fitness_1 = [ind.fitness.values[0] for ind in hof]\n",
    "# fitness_2 = [ind.fitness.values[1] for ind in hof]\n",
    "# pop_1 = [ind.fitness.values[0] for ind in pop]\n",
    "# pop_2 = [ind.fitness.values[1] for ind in pop]\n",
    "\n",
    "# '''Print dominated population for debugging'''\n",
    "# # for ind in pop:\n",
    "# #     print(ind.fitness)\n",
    "\n",
    "# plt.scatter(pop_1, pop_2, color='b')\n",
    "# plt.scatter(fitness_1, fitness_2, color='r')\n",
    "# plt.plot(fitness_1, fitness_2, color='r', drawstyle='steps-post')\n",
    "# plt.xlabel(\"Mean Squared Error\")\n",
    "# plt.ylabel(\"Tree Size\")\n",
    "# plt.title(\"Pareto Front\")\n",
    "# plt.show()\n",
    "\n",
    "# f1 = np.array(fitness_1)\n",
    "# f2 = np.array(fitness_2)\n",
    "\n",
    "# \"\"\"Calculate area under curve with least squares method\"\"\"\n",
    "# print(\"Area Under Curve: %s\" % (np.sum(np.abs(np.diff(f1))*f2[:-1])))\n",
    "\n",
    "\n",
    "\"\"\"Split fitness values into separate lists\"\"\"\n",
    "fitness_1 = [ind.fitness.values[0] for ind in hof]\n",
    "fitness_2 = [ind.fitness.values[1] for ind in hof]\n",
    "pop_1 = [ind.fitness.values[0] for ind in population]\n",
    "pop_2 = [ind.fitness.values[1] for ind in population]\n",
    "\n",
    "'''Print dominated population for debugging'''\n",
    "# for ind in pop:\n",
    "#     print(ind.fitness)\n",
    "\n",
    "plt.scatter(pop_1, pop_2, color='b')\n",
    "plt.scatter(fitness_1, fitness_2, color='r')\n",
    "plt.plot(fitness_1, fitness_2, color='r', drawstyle='steps-post')\n",
    "plt.xlabel(\"False Positive\")\n",
    "plt.ylabel(\"False Negative\")\n",
    "plt.title(\"Pareto Front\")\n",
    "plt.ylim(bottom=0.0)\n",
    "plt.xlim(left=0.0)\n",
    "plt.show()\n",
    "\n",
    "f1 = np.array(fitness_1)\n",
    "f2 = np.array(fitness_2)\n",
    "\n",
    "\"\"\"Calculate area under curve with least squares method\"\"\"\n",
    "print(\"Area Under Curve: %s\" % (np.sum(np.abs(np.diff(f1))*f2[:-1])))"
   ]
  }
 ],
 "metadata": {
  "@webio": {
   "lastCommId": null,
   "lastKernelId": null
  },
  "kernelspec": {
   "display_name": "Python 3",
   "language": "python",
   "name": "python3"
  },
  "language_info": {
   "codemirror_mode": {
    "name": "ipython",
    "version": 3
   },
   "file_extension": ".py",
   "mimetype": "text/x-python",
   "name": "python",
   "nbconvert_exporter": "python",
   "pygments_lexer": "ipython3",
   "version": "3.7.4"
  }
 },
 "nbformat": 4,
 "nbformat_minor": 2
}
